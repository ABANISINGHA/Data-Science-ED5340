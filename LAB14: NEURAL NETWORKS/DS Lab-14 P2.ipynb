{
 "cells": [
  {
   "cell_type": "markdown",
   "id": "f2c92e4a",
   "metadata": {},
   "source": [
    "# Implement a neural network for m-samples, n-features as we discussed in class (both FP and BP) and for N layers in the hidden layer. Split the data (you can use the log. reg. data or any other one) and train your network with 70% of the data. Use 15% for validation  and test your network with the remaining 15% data. Report the evaluation metrics for varying number of layers in the network. Plot the training loss curves.\n",
    "\n"
   ]
  },
  {
   "cell_type": "code",
   "execution_count": 17,
   "id": "d71d6d48",
   "metadata": {},
   "outputs": [
    {
     "data": {
      "text/html": [
       "<div>\n",
       "<style scoped>\n",
       "    .dataframe tbody tr th:only-of-type {\n",
       "        vertical-align: middle;\n",
       "    }\n",
       "\n",
       "    .dataframe tbody tr th {\n",
       "        vertical-align: top;\n",
       "    }\n",
       "\n",
       "    .dataframe thead th {\n",
       "        text-align: right;\n",
       "    }\n",
       "</style>\n",
       "<table border=\"1\" class=\"dataframe\">\n",
       "  <thead>\n",
       "    <tr style=\"text-align: right;\">\n",
       "      <th></th>\n",
       "      <th>x1</th>\n",
       "      <th>x2</th>\n",
       "      <th>label</th>\n",
       "    </tr>\n",
       "  </thead>\n",
       "  <tbody>\n",
       "    <tr>\n",
       "      <th>0</th>\n",
       "      <td>7.395</td>\n",
       "      <td>7.638</td>\n",
       "      <td>1</td>\n",
       "    </tr>\n",
       "    <tr>\n",
       "      <th>1</th>\n",
       "      <td>4.987</td>\n",
       "      <td>6.485</td>\n",
       "      <td>1</td>\n",
       "    </tr>\n",
       "    <tr>\n",
       "      <th>2</th>\n",
       "      <td>5.358</td>\n",
       "      <td>6.499</td>\n",
       "      <td>1</td>\n",
       "    </tr>\n",
       "    <tr>\n",
       "      <th>3</th>\n",
       "      <td>2.036</td>\n",
       "      <td>2.380</td>\n",
       "      <td>0</td>\n",
       "    </tr>\n",
       "    <tr>\n",
       "      <th>4</th>\n",
       "      <td>5.956</td>\n",
       "      <td>7.378</td>\n",
       "      <td>1</td>\n",
       "    </tr>\n",
       "    <tr>\n",
       "      <th>...</th>\n",
       "      <td>...</td>\n",
       "      <td>...</td>\n",
       "      <td>...</td>\n",
       "    </tr>\n",
       "    <tr>\n",
       "      <th>495</th>\n",
       "      <td>0.304</td>\n",
       "      <td>1.608</td>\n",
       "      <td>0</td>\n",
       "    </tr>\n",
       "    <tr>\n",
       "      <th>496</th>\n",
       "      <td>6.140</td>\n",
       "      <td>4.261</td>\n",
       "      <td>1</td>\n",
       "    </tr>\n",
       "    <tr>\n",
       "      <th>497</th>\n",
       "      <td>6.579</td>\n",
       "      <td>6.231</td>\n",
       "      <td>1</td>\n",
       "    </tr>\n",
       "    <tr>\n",
       "      <th>498</th>\n",
       "      <td>2.555</td>\n",
       "      <td>0.446</td>\n",
       "      <td>0</td>\n",
       "    </tr>\n",
       "    <tr>\n",
       "      <th>499</th>\n",
       "      <td>2.148</td>\n",
       "      <td>0.852</td>\n",
       "      <td>0</td>\n",
       "    </tr>\n",
       "  </tbody>\n",
       "</table>\n",
       "<p>500 rows × 3 columns</p>\n",
       "</div>"
      ],
      "text/plain": [
       "        x1     x2  label\n",
       "0    7.395  7.638      1\n",
       "1    4.987  6.485      1\n",
       "2    5.358  6.499      1\n",
       "3    2.036  2.380      0\n",
       "4    5.956  7.378      1\n",
       "..     ...    ...    ...\n",
       "495  0.304  1.608      0\n",
       "496  6.140  4.261      1\n",
       "497  6.579  6.231      1\n",
       "498  2.555  0.446      0\n",
       "499  2.148  0.852      0\n",
       "\n",
       "[500 rows x 3 columns]"
      ]
     },
     "execution_count": 17,
     "metadata": {},
     "output_type": "execute_result"
    }
   ],
   "source": [
    "import pandas as pd\n",
    "df = pd.read_csv(\"Logistic_regression_ls.csv\")\n",
    "df"
   ]
  },
  {
   "cell_type": "code",
   "execution_count": 18,
   "id": "2ee70b96",
   "metadata": {},
   "outputs": [
    {
     "name": "stdout",
     "output_type": "stream",
     "text": [
      "(500, 2)\n",
      "(500, 1)\n"
     ]
    }
   ],
   "source": [
    "X = df[['x1','x2']].values\n",
    "print(X.shape)\n",
    "y = df[['label']].values\n",
    "print(y.shape)\n",
    "\n"
   ]
  },
  {
   "cell_type": "code",
   "execution_count": 19,
   "id": "76b4e1fa",
   "metadata": {},
   "outputs": [
    {
     "name": "stdout",
     "output_type": "stream",
     "text": [
      "Train data shape:\n",
      "(350, 2)\n",
      "(350, 1)\n",
      "Validation data shape:\n",
      "(75, 2)\n",
      "(75, 1)\n",
      "Test data shape:\n",
      "(75, 2)\n",
      "(75, 1)\n"
     ]
    }
   ],
   "source": [
    "import numpy as np\n",
    "import pandas as pd\n",
    "from sklearn.model_selection import train_test_split\n",
    "\n",
    "# Splliting the traing and test data\n",
    "X_train, X_test, y_train, y_test = train_test_split(X, y, test_size=0.3, random_state=42)\n",
    "print(\"Train data shape:\")\n",
    "print(X_train.shape)\n",
    "print(y_train.shape)\n",
    "X_valid, X_test, y_valid, y_test = train_test_split(X_test, y_test, test_size=0.5, random_state=42)\n",
    "print(\"Validation data shape:\")\n",
    "print(X_valid.shape)\n",
    "print(y_valid.shape)\n",
    "print(\"Test data shape:\")\n",
    "print(X_test.shape)\n",
    "print(y_test.shape)"
   ]
  },
  {
   "cell_type": "markdown",
   "id": "a049d904",
   "metadata": {},
   "source": [
    "# Normalise the train test and validation data"
   ]
  },
  {
   "cell_type": "code",
   "execution_count": 20,
   "id": "4e7bd4a0",
   "metadata": {},
   "outputs": [],
   "source": [
    "X_train = (X_train - X_train.min())/(X_train.max() - X_train.min())\n",
    "X_test = (X_test - X_test.min())/(X_test.max() - X_test.min())\n",
    "X_valid = (X_valid - X_valid.min())/(X_valid.max() - X_valid.min())\n"
   ]
  },
  {
   "cell_type": "markdown",
   "id": "3c55eab6",
   "metadata": {},
   "source": [
    "# Flexible Neural Network"
   ]
  },
  {
   "cell_type": "code",
   "execution_count": 21,
   "id": "13f8f4f6",
   "metadata": {},
   "outputs": [],
   "source": [
    "import numpy as np\n",
    "def init_N_network( num_hidden_layer, num_nodes_hidden_layers, input_size, output_size ):\n",
    "    network_size = []\n",
    "    for i in range(num_hidden_layer):\n",
    "        network_size.append(num_nodes_hidden_layers[i])\n",
    "    size = [input_size] + network_size + [output_size]\n",
    "    theta0 = {}\n",
    "    np.random.seed(2)\n",
    "    for i in range(1, num_hidden_layer+2):\n",
    "        theta0['W' + str(i)] = np.random.randn(size[i], size[i-1])\n",
    "        theta0['b' + str(i)] = np.random.randn(size[i], 1)\n",
    "    return theta0\n",
    "\n",
    "def sigmoid(x):\n",
    "    return 1 / (1 + np.exp(-x))\n",
    "\n",
    "def der_sigmoid(x):\n",
    "    return sigmoid(x)*(1-sigmoid(x))\n",
    "\n",
    "\n",
    "def cross_entropy_loss(y_true,y_pred):\n",
    "    eps = 1e-5\n",
    "    y_pred = np.clip(y_pred,eps,1-eps)\n",
    "    yp_log1 = np.log(y_pred)\n",
    "    yp_log2 = np.log(1-y_pred)\n",
    "    loss = -np.mean(y_true*yp_log1) - np.mean((1 - y_true)*yp_log2)\n",
    "    return loss\n",
    "\n",
    "def forword_prop(x,theta, num_hidden_layer,input_size):\n",
    "#     print(theta)\n",
    "    a = {}\n",
    "    a['a'+str(0)] = np.zeros((input_size,1))\n",
    "    h = {'h0':x}\n",
    "    for i in range(1,num_hidden_layer+1):\n",
    "        a[\"a\"+str(i)] = np.dot(theta['W'+str(i)],h['h'+str(i-1)]) + theta['b'+str(i)]\n",
    "        h['h'+str(i)] = sigmoid(a[\"a\"+str(i)])\n",
    "    a['a'+str(num_hidden_layer+1)] = np.dot(theta['W'+str(num_hidden_layer+1)],h['h'+str(num_hidden_layer)]) + theta['b'+str(num_hidden_layer+1)]\n",
    "    y_pred = sigmoid(a['a'+str(num_hidden_layer+1)])\n",
    "\n",
    "    return a,h,y_pred\n",
    "\n",
    "\n",
    "def backprop(x, y_actual, num_hidden_layer, theta, input_size):\n",
    "    m = x.shape[0]\n",
    "    a, h, y_pred = forword_prop(x, theta, num_hidden_layer, input_size)\n",
    "    grad_W_b = {}\n",
    "    grad_h_a = {}\n",
    "    grad_h_a['a' + str(num_hidden_layer + 1)] = -1 * (y_actual.T - y_pred)\n",
    "    for i in range(num_hidden_layer + 1, 0, -1):\n",
    "        grad_W_b['W' + str(i)] = np.dot(grad_h_a['a' + str(i)], h['h' + str(i - 1)].T)\n",
    "        grad_W_b['b' + str(i)] = np.mean(grad_h_a['a' + str(i)], axis=1, keepdims=True)  # Adjusted dimension\n",
    "        grad_h_a['h' + str(i - 1)] = np.dot(theta['W' + str(i)].T, grad_h_a['a' + str(i)])\n",
    "        grad_h_a['a' + str(i - 1)] = grad_h_a['h' + str(i - 1)] * (der_sigmoid(a['a' + str(i - 1)]))\n",
    "\n",
    "    return grad_W_b\n",
    "\n",
    "def cal_accuracy(X_test,y_test,theta_new, num_hidden_layer,input_size):\n",
    "    a,h,y_test_pred = forword_prop(X_test,theta_new, num_hidden_layer,input_size)\n",
    "    assert y_test.shape == y_test_pred.T.shape\n",
    "    y_test_pred = np.where(y_test_pred.T > 0.5, 1, 0)\n",
    "    correct_predictions = 0\n",
    "    for i in range(y_test.shape[0]):\n",
    "        if y_test[i] == y_test_pred[i]:\n",
    "            correct_predictions += 1\n",
    "    accuracy = correct_predictions /y_test.shape[0] # total_instances\n",
    "\n",
    "    return accuracy*100\n",
    "\n",
    "\n"
   ]
  },
  {
   "cell_type": "code",
   "execution_count": 22,
   "id": "4c14f741",
   "metadata": {},
   "outputs": [],
   "source": [
    "# Define evaluation metrics\n",
    "def evaluate_metrics(y_true, y_pred):\n",
    "    # Calculate True Positives, False Positives, True Negatives, False Negatives\n",
    "    TP = np.sum((y_true == 1) & (y_pred == 1))\n",
    "    FP = np.sum((y_true == 0) & (y_pred == 1))\n",
    "    TN = np.sum((y_true == 0) & (y_pred == 0))\n",
    "    FN = np.sum((y_true == 1) & (y_pred == 0))\n",
    "\n",
    "    # Calculate Precision, Recall, F1-Score, Accuracy\n",
    "    P = TP / (TP + FP) if (TP + FP) != 0 else 0\n",
    "    R = TP / (TP + FN) if (TP + FN) != 0 else 0\n",
    "    f1 = 2 * (P * R) / (P + R) if (P + R) != 0 else 0\n",
    "    acc = (TP + TN) / len(y_true)\n",
    "    return P, R, f1, acc"
   ]
  },
  {
   "cell_type": "code",
   "execution_count": 23,
   "id": "8eb11699",
   "metadata": {},
   "outputs": [],
   "source": [
    "import matplotlib.pyplot as plt\n",
    "\n",
    "def gradient_decent(lr,num_epoch, theta, X_train, y_train,X_val,y_val, num_hidden_layer, input_size):\n",
    "#     print(y_actual)\n",
    "    train_losses = []  # List to store the loss for each epoch\n",
    "    val_losses = []\n",
    "    for epoch in range(num_epoch):\n",
    "        grad = backprop(X_train, y_train, num_hidden_layer, theta, input_size)\n",
    "        for i in range(1, num_hidden_layer + 2):\n",
    "            theta['W' + str(i)] -= lr * grad['W' + str(i)]\n",
    "            theta['b' + str(i)] -= lr * grad['b' + str(i)]\n",
    "#         print(theta)\n",
    "        \n",
    "        \n",
    "        # Compute and store the loss for this epoch\n",
    "        a, _, y_pred = forword_prop(X_train, theta, num_hidden_layer, input_size)\n",
    "        _, _, y_pred_val = forword_prop(X_val, theta, num_hidden_layer, input_size)\n",
    "        \n",
    "        y_pred = y_pred.T\n",
    "        y_pred_val = y_pred_val.T\n",
    "#         print(y_pred)\n",
    "#         loss =  -np.mean(np.sum(y_actual.T * np.log(y_pred), axis=0))\n",
    "        loss1 = cross_entropy_loss(y_train,y_pred)\n",
    "        train_losses.append(loss1)\n",
    "        loss2 = cross_entropy_loss(y_val,y_pred_val)\n",
    "        val_losses.append(loss2)\n",
    "        \n",
    "        train_acc = cal_accuracy(X_train,y_train,theta, num_hidden_layer,input_size)\n",
    "        val_acc = cal_accuracy(X_val,y_val,theta, num_hidden_layer,input_size)\n",
    "        if epoch % 10 == 0:\n",
    "            print(f\"Epoch {epoch+1}, train_loss: {loss1:.4f}, train_acc: {train_acc:.2f}, Val_loss: {loss2:.4f}, val_acc: {val_acc:.2f}\")\n",
    "\n",
    "    # Plot the loss function over epochs\n",
    "    plt.plot(train_losses,label='Train loss')\n",
    "    plt.plot(val_losses, label='Val loss')\n",
    "    plt.xlabel('Epoch')\n",
    "    plt.ylabel('Loss')\n",
    "    plt.title('Training Loss over Epochs')\n",
    "    plt.legend()\n",
    "    plt.show()\n",
    "\n",
    "    return theta \n"
   ]
  },
  {
   "cell_type": "code",
   "execution_count": 24,
   "id": "d8213928",
   "metadata": {},
   "outputs": [],
   "source": [
    "# Train test and validation data\n",
    "X_train = X_train.T\n",
    "X_val = X_valid.T\n",
    "y_val = y_valid\n",
    "X_test = X_test.T"
   ]
  },
  {
   "cell_type": "markdown",
   "id": "156fa850",
   "metadata": {},
   "source": [
    "# 2 Hidden Layer Neural Network"
   ]
  },
  {
   "cell_type": "code",
   "execution_count": 25,
   "id": "8aae873b",
   "metadata": {},
   "outputs": [],
   "source": [
    "num_hidden_layer = 2\n",
    "num_nodes_hidden_layers = [10,4]\n",
    "input_size = 2\n",
    "output_size = 1\n",
    "lr = 0.001\n",
    "num_epoch = 110\n"
   ]
  },
  {
   "cell_type": "code",
   "execution_count": 26,
   "id": "9efc50cc",
   "metadata": {},
   "outputs": [],
   "source": [
    "theta = init_N_network( num_hidden_layer, num_nodes_hidden_layers, input_size, output_size )"
   ]
  },
  {
   "cell_type": "code",
   "execution_count": 27,
   "id": "9259acea",
   "metadata": {
    "scrolled": true
   },
   "outputs": [
    {
     "name": "stdout",
     "output_type": "stream",
     "text": [
      "Epoch 1, train_loss: 0.8274, train_acc: 14.57, Val_loss: 0.8272, val_acc: 9.33\n",
      "Epoch 11, train_loss: 0.7796, train_acc: 13.43, Val_loss: 0.7805, val_acc: 28.00\n",
      "Epoch 21, train_loss: 0.7525, train_acc: 50.29, Val_loss: 0.7530, val_acc: 50.67\n",
      "Epoch 31, train_loss: 0.7283, train_acc: 51.71, Val_loss: 0.7284, val_acc: 52.00\n",
      "Epoch 41, train_loss: 0.7055, train_acc: 51.71, Val_loss: 0.7052, val_acc: 52.00\n",
      "Epoch 51, train_loss: 0.6835, train_acc: 51.71, Val_loss: 0.6828, val_acc: 52.00\n",
      "Epoch 61, train_loss: 0.6616, train_acc: 52.86, Val_loss: 0.6605, val_acc: 53.33\n",
      "Epoch 71, train_loss: 0.6394, train_acc: 65.14, Val_loss: 0.6378, val_acc: 73.33\n",
      "Epoch 81, train_loss: 0.6164, train_acc: 83.71, Val_loss: 0.6144, val_acc: 90.67\n",
      "Epoch 91, train_loss: 0.5926, train_acc: 94.00, Val_loss: 0.5902, val_acc: 97.33\n",
      "Epoch 101, train_loss: 0.5680, train_acc: 96.86, Val_loss: 0.5651, val_acc: 100.00\n"
     ]
    },
    {
     "data": {
      "image/png": "[encoded data removed]",
      "text/plain": [
       "<Figure size 640x480 with 1 Axes>"
      ]
     },
     "metadata": {},
     "output_type": "display_data"
    }
   ],
   "source": [
    "# theta_new1, losses = gradient_decent(lr, theta, x, y_actual, num_hidden_layer, input_size)\n",
    "theta_2layer = gradient_decent(lr,num_epoch, theta, X_train, y_train,X_val,y_val, num_hidden_layer, input_size)\n"
   ]
  },
  {
   "cell_type": "code",
   "execution_count": 28,
   "id": "53273977",
   "metadata": {},
   "outputs": [
    {
     "name": "stdout",
     "output_type": "stream",
     "text": [
      "Evaluation matrix for 2 layer Neural Network \n",
      "Test accuracy: 98.66666666666667%\n",
      "Precision:  0.967741935483871\n",
      "Recall:  1.0\n",
      "F1_score:  0.9836065573770492\n"
     ]
    }
   ],
   "source": [
    "_, _, y_pred_test = forword_prop(X_test, theta_2layer, num_hidden_layer, input_size)\n",
    "y_pred_test = np.where(y_pred_test > 0.5, 1, 0).T\n",
    "precision1, recall1, f1_score1, acc1 = evaluate_metrics(y_test, y_pred_test)\n",
    "print(\"Evaluation matrix for 2 layer Neural Network \")\n",
    "print(f\"Test accuracy: {acc1*100}%\")\n",
    "print(\"Precision: \",precision1)\n",
    "print(\"Recall: \",recall1)\n",
    "print(\"F1_score: \",f1_score1)\n"
   ]
  },
  {
   "cell_type": "code",
   "execution_count": null,
   "id": "56ac865f",
   "metadata": {},
   "outputs": [],
   "source": []
  },
  {
   "cell_type": "markdown",
   "id": "39d8df75",
   "metadata": {},
   "source": [
    "# 3 Hidden Layer Neural Network"
   ]
  },
  {
   "cell_type": "code",
   "execution_count": 29,
   "id": "c25dac6e",
   "metadata": {},
   "outputs": [
    {
     "name": "stdout",
     "output_type": "stream",
     "text": [
      "Epoch 1, train_loss: 0.6905, train_acc: 51.71, Val_loss: 0.6904, val_acc: 52.00\n",
      "Epoch 11, train_loss: 0.6831, train_acc: 51.71, Val_loss: 0.6829, val_acc: 52.00\n",
      "Epoch 21, train_loss: 0.6757, train_acc: 51.71, Val_loss: 0.6756, val_acc: 52.00\n",
      "Epoch 31, train_loss: 0.6674, train_acc: 51.71, Val_loss: 0.6674, val_acc: 52.00\n",
      "Epoch 41, train_loss: 0.6579, train_acc: 52.57, Val_loss: 0.6579, val_acc: 54.67\n",
      "Epoch 51, train_loss: 0.6465, train_acc: 57.71, Val_loss: 0.6467, val_acc: 66.67\n",
      "Epoch 61, train_loss: 0.6328, train_acc: 71.71, Val_loss: 0.6330, val_acc: 73.33\n",
      "Epoch 71, train_loss: 0.6162, train_acc: 80.57, Val_loss: 0.6166, val_acc: 85.33\n",
      "Epoch 81, train_loss: 0.5963, train_acc: 86.86, Val_loss: 0.5968, val_acc: 94.67\n",
      "Epoch 91, train_loss: 0.5728, train_acc: 92.86, Val_loss: 0.5732, val_acc: 98.67\n",
      "Epoch 101, train_loss: 0.5452, train_acc: 95.71, Val_loss: 0.5457, val_acc: 98.67\n"
     ]
    },
    {
     "data": {
      "image/png": "[encoded data removed]",
      "text/plain": [
       "<Figure size 640x480 with 1 Axes>"
      ]
     },
     "metadata": {},
     "output_type": "display_data"
    }
   ],
   "source": [
    "num_hidden_layer = 3\n",
    "num_nodes_hidden_layers = [10,10,4]\n",
    "input_size = 2\n",
    "output_size = 1\n",
    "lr = 0.001\n",
    "num_epoch = 110\n",
    "# Initilise Neural Network\n",
    "theta3 = init_N_network( num_hidden_layer, num_nodes_hidden_layers, input_size, output_size )\n",
    "theta_3layer = gradient_decent(lr,num_epoch, theta3, X_train, y_train,X_val,y_val, num_hidden_layer, input_size)\n"
   ]
  },
  {
   "cell_type": "code",
   "execution_count": 30,
   "id": "485d3e53",
   "metadata": {},
   "outputs": [
    {
     "name": "stdout",
     "output_type": "stream",
     "text": [
      "Evaluation matrix for 3 layer Neural Network \n",
      "Test accuracy: 96.0%\n",
      "Precision:  0.9090909090909091\n",
      "Recall:  1.0\n",
      "F1_score:  0.9523809523809523\n"
     ]
    }
   ],
   "source": [
    "_, _, y_pred_test3 = forword_prop(X_test, theta_3layer, num_hidden_layer, input_size)\n",
    "y_pred_test3 = np.where(y_pred_test3 > 0.5, 1, 0).T\n",
    "precision3, recall3, f1_score3, acc3 = evaluate_metrics(y_test, y_pred_test3)\n",
    "print(\"Evaluation matrix for 3 layer Neural Network \")\n",
    "print(f\"Test accuracy: {acc3*100}%\")\n",
    "print(\"Precision: \",precision3)\n",
    "print(\"Recall: \",recall3)\n",
    "print(\"F1_score: \",f1_score3)\n"
   ]
  },
  {
   "cell_type": "markdown",
   "id": "001a7b13",
   "metadata": {},
   "source": [
    "# 4 Hidden Layer Neural Network"
   ]
  },
  {
   "cell_type": "code",
   "execution_count": 36,
   "id": "742ab7f2",
   "metadata": {},
   "outputs": [
    {
     "name": "stdout",
     "output_type": "stream",
     "text": [
      "Epoch 1, train_loss: 0.7011, train_acc: 51.71, Val_loss: 0.7000, val_acc: 52.00\n",
      "Epoch 11, train_loss: 0.6854, train_acc: 51.71, Val_loss: 0.6852, val_acc: 52.00\n",
      "Epoch 21, train_loss: 0.6730, train_acc: 55.71, Val_loss: 0.6727, val_acc: 60.00\n",
      "Epoch 31, train_loss: 0.5964, train_acc: 100.00, Val_loss: 0.5964, val_acc: 100.00\n"
     ]
    },
    {
     "data": {
      "image/png": "[encoded data removed]",
      "text/plain": [
       "<Figure size 640x480 with 1 Axes>"
      ]
     },
     "metadata": {},
     "output_type": "display_data"
    }
   ],
   "source": [
    "num_hidden_layer = 4\n",
    "num_nodes_hidden_layers = [20,10,10,4]\n",
    "input_size = 2\n",
    "output_size = 1\n",
    "lr = 0.01\n",
    "num_epoch = 31\n",
    "# Initilise Neural Network\n",
    "theta4 = init_N_network( num_hidden_layer, num_nodes_hidden_layers, input_size, output_size )\n",
    "theta_4layer = gradient_decent(lr,num_epoch, theta4, X_train, y_train,X_val,y_val, num_hidden_layer, input_size)\n"
   ]
  },
  {
   "cell_type": "code",
   "execution_count": 37,
   "id": "e71bbc2e",
   "metadata": {},
   "outputs": [
    {
     "name": "stdout",
     "output_type": "stream",
     "text": [
      "Evaluation matrix for 4 layer Neural Network \n",
      "Test accuracy: 100.0%\n",
      "Precision:  1.0\n",
      "Recall:  1.0\n",
      "F1_score:  1.0\n"
     ]
    }
   ],
   "source": [
    "_, _, y_pred_test4 = forword_prop(X_test, theta_4layer, num_hidden_layer, input_size)\n",
    "y_pred_test4 = np.where(y_pred_test4 > 0.5, 1, 0).T\n",
    "precision4, recall4, f1_score4, acc4 = evaluate_metrics(y_test, y_pred_test4)\n",
    "print(\"Evaluation matrix for 4 layer Neural Network \")\n",
    "print(f\"Test accuracy: {acc4*100}%\")\n",
    "print(\"Precision: \",precision4)\n",
    "print(\"Recall: \",recall4)\n",
    "print(\"F1_score: \",f1_score4)"
   ]
  },
  {
   "cell_type": "code",
   "execution_count": null,
   "id": "15157bfa",
   "metadata": {},
   "outputs": [],
   "source": []
  },
  {
   "cell_type": "code",
   "execution_count": null,
   "id": "d6290fef",
   "metadata": {},
   "outputs": [],
   "source": []
  }
 ],
 "metadata": {
  "kernelspec": {
   "display_name": "Python 3 (ipykernel)",
   "language": "python",
   "name": "python3"
  },
  "language_info": {
   "codemirror_mode": {
    "name": "ipython",
    "version": 3
   },
   "file_extension": ".py",
   "mimetype": "text/x-python",
   "name": "python",
   "nbconvert_exporter": "python",
   "pygments_lexer": "ipython3",
   "version": "3.11.3"
  }
 },
 "nbformat": 4,
 "nbformat_minor": 5
}
