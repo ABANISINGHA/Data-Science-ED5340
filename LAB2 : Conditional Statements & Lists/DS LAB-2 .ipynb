{
 "cells": [
  {
   "cell_type": "markdown",
   "id": "43517524",
   "metadata": {},
   "source": [
    "# Question-1"
   ]
  },
  {
   "cell_type": "code",
   "execution_count": 3,
   "id": "006bc881",
   "metadata": {},
   "outputs": [
    {
     "name": "stdout",
     "output_type": "stream",
     "text": [
      "Numbers divisible by both 7 and 8 between 1 and 1000 using continue statement:\n",
      "56\n",
      "112\n",
      "168\n",
      "224\n",
      "280\n",
      "336\n",
      "392\n",
      "448\n",
      "504\n",
      "560\n",
      "616\n",
      "672\n",
      "728\n",
      "784\n",
      "840\n",
      "896\n",
      "952\n"
     ]
    }
   ],
   "source": [
    "# Write a program to print numbers divisible by both 7 and 8. Numbers between 1 and 1000.\n",
    "# By using continue statement\n",
    "\n",
    "print(\"Numbers divisible by both 7 and 8 between 1 and 1000 using continue statement:\")\n",
    "for i in range(1, 1001):\n",
    "    if i % 7 != 0 or i % 8 != 0:\n",
    "        continue\n",
    "    print(i)\n"
   ]
  },
  {
   "cell_type": "code",
   "execution_count": 2,
   "id": "d68540b3",
   "metadata": {},
   "outputs": [
    {
     "name": "stdout",
     "output_type": "stream",
     "text": [
      "Numbers divisible by both 7 and 8 between 1 and 1000 using pass statement:\n",
      "56\n",
      "112\n",
      "168\n",
      "224\n",
      "280\n",
      "336\n",
      "392\n",
      "448\n",
      "504\n",
      "560\n",
      "616\n",
      "672\n",
      "728\n",
      "784\n",
      "840\n",
      "896\n",
      "952\n"
     ]
    }
   ],
   "source": [
    "# By using pass statement\n",
    "\n",
    "print(\"Numbers divisible by both 7 and 8 between 1 and 1000 using pass statement:\")\n",
    "for i in range(1, 1001):\n",
    "    if i % 7 == 0 and i % 8 == 0:\n",
    "        print(i)\n",
    "    else:\n",
    "        pass\n"
   ]
  },
  {
   "cell_type": "markdown",
   "id": "c778553d",
   "metadata": {},
   "source": [
    "# Question 2"
   ]
  },
  {
   "cell_type": "code",
   "execution_count": 3,
   "id": "b8af0bd2",
   "metadata": {},
   "outputs": [
    {
     "name": "stdout",
     "output_type": "stream",
     "text": [
      "Sum of all even numbers: 24\n",
      "Sum of all odd numbers: 29\n"
     ]
    }
   ],
   "source": [
    "# Number 34567222541147 has been given. Print the addition of all even digits and the addition of all odd digits.\n",
    "\n",
    "num = '34567222541147' # Taking the number as a string \n",
    "ev = 0\n",
    "odd = 0\n",
    "for i in num:\n",
    "    if int(i) % 2 == 0:\n",
    "        ev = ev + int(i)\n",
    "    else:\n",
    "        odd = odd + int(i) \n",
    "print(\"Sum of all even numbers:\",e)\n",
    "print(\"Sum of all odd numbers:\",odd)\n"
   ]
  },
  {
   "cell_type": "markdown",
   "id": "ef146b65",
   "metadata": {},
   "source": [
    "# Question 3"
   ]
  },
  {
   "cell_type": "code",
   "execution_count": 36,
   "id": "638f649d",
   "metadata": {},
   "outputs": [
    {
     "name": "stdout",
     "output_type": "stream",
     "text": [
      "10\n",
      "The minumum number of the list is: 5\n",
      "The maximum number of the list is: 125\n",
      "The maximum number of the list by using max() function is: 125\n",
      "The minimum number of the list by using min() function is: 5\n"
     ]
    }
   ],
   "source": [
    "# Describe conditional expression. Write a program to print the maximum and minimum numbers from a list using conditional expression.\n",
    "# Use the max () and min () functions to verify your output.\n",
    "\n",
    "lst = [12,56,86,5,54,14,125,54,82,37]\n",
    "print(len(lst))\n",
    "# finding the minimum numbers among the numbers in the list\n",
    "for i in lst:\n",
    "    count = 0\n",
    "    for j in lst:\n",
    "        if i<=j:\n",
    "            count = count + 1\n",
    "    if count == len(lst):\n",
    "        print(\"The minumum number of the list is:\", i)\n",
    "            \n",
    "# finding the maximum numbers among the numbers in the list\n",
    "for i in lst:\n",
    "    count = 0\n",
    "    for j in lst:\n",
    "        if i>=j:\n",
    "            count = count + 1\n",
    "    if count == len(lst):\n",
    "        print(\"The maximum number of the list is:\", i)\n",
    "            \n",
    "print(\"The maximum number of the list by using max() function is:\",max(lst))       \n",
    "print(\"The minimum number of the list by using min() function is:\",min(lst))\n",
    "\n"
   ]
  },
  {
   "cell_type": "markdown",
   "id": "7a9d6354",
   "metadata": {},
   "source": [
    "# Question 4"
   ]
  },
  {
   "cell_type": "code",
   "execution_count": 81,
   "id": "8504d818",
   "metadata": {},
   "outputs": [
    {
     "name": "stdout",
     "output_type": "stream",
     "text": [
      "[[1], [1, 1], [1, 1, 1], [1, 1, 1, 1], [1, 1, 1, 1, 1]]\n",
      "Printing of the pascle's triangle\n",
      "    1 \n",
      "   1 1 \n",
      "  1 2 1 \n",
      " 1 3 3 1 \n",
      "1 4 6 4 1 \n"
     ]
    }
   ],
   "source": [
    "# Pascal’s  Triangle : Print the following pattern for the given N number of rows.\n",
    "n = 5\n",
    "x = [[1]*(i+1) for i in range(n)]\n",
    "print(x)\n",
    "print(\"Printing of the pascle's triangle\")\n",
    "for i in range(2,n):\n",
    "    for j in range(1,i):\n",
    "        x[i][j] = x[i-1][j] + x[i-1][j-1]\n",
    "        \n",
    "        \n",
    "for i in range(0,n):\n",
    "    print(\" \"*(n-i-1),end=\"\")\n",
    "    for j in range(0,i+1):\n",
    "        print(x[i][j],end=\" \") \n",
    "    print()\n"
   ]
  },
  {
   "cell_type": "markdown",
   "id": "263651a4",
   "metadata": {},
   "source": [
    "# Question 5"
   ]
  },
  {
   "cell_type": "code",
   "execution_count": 35,
   "id": "6b50cd28",
   "metadata": {},
   "outputs": [
    {
     "name": "stdout",
     "output_type": "stream",
     "text": [
      "Enter a integer number:1331\n",
      "The number is a palindrome: True\n"
     ]
    }
   ],
   "source": [
    "# A palindrome sentence is a phrase or sentence that reads the same forward as it does backward, ignoring spaces, punctuation, and capitalization.\n",
    "\n",
    "\n",
    "# A) Take a number as input, determine if it is a palindrome, considering only integers. Eg: 2442\n",
    "# The expected output for this example will print, 'True'\n",
    "\n",
    "\n",
    "def palindrome_check(num):\n",
    "    num = str(num)\n",
    "    if num == num[::-1]:\n",
    "        return True\n",
    "    else:\n",
    "        return False\n",
    "    \n",
    "num = int(input(\"Enter a integer number:\"))   \n",
    "print(\"The number is a palindrome:\",palindrome_check(num))\n",
    "\n",
    "\n",
    "\n"
   ]
  },
  {
   "cell_type": "code",
   "execution_count": 91,
   "id": "2ce81e89",
   "metadata": {},
   "outputs": [
    {
     "name": "stdout",
     "output_type": "stream",
     "text": [
      "Enter a string:Mom o mom\n",
      "The string is a palindrome: True\n"
     ]
    }
   ],
   "source": [
    "# B) Now, take a string as an input and check whether it is Palindrome or not.  eg: \"Was it a car or a cat I saw?\"\n",
    "# The expected output for this example will print, 'True'\n",
    "\n",
    "def palindrome_check(str):\n",
    "    if str.upper() == str[::-1].upper():\n",
    "        return True\n",
    "    else:\n",
    "        return False\n",
    "    \n",
    "str = input(\"Enter a string:\")   \n",
    "print(\"The string is a palindrome:\",palindrome_check(str))\n",
    "\n"
   ]
  },
  {
   "cell_type": "markdown",
   "id": "8b43a758",
   "metadata": {},
   "source": [
    "# 6. Describe chr () and ord () functions. Write a small program to show its functionality.Using these functions,write a program to print:\n",
    "\n",
    "Pattern for N=4\n",
    "\n",
    "  A\n",
    "\n",
    "  B B\n",
    "\n",
    "  C C C\n",
    "\n",
    "  D D D D\n",
    "\n"
   ]
  },
  {
   "cell_type": "code",
   "execution_count": 7,
   "id": "c9d20cf9",
   "metadata": {},
   "outputs": [
    {
     "name": "stdout",
     "output_type": "stream",
     "text": [
      "The character for the given unicode 97 is: a\n",
      "The unicode for the given character A is: 65\n",
      "Printing the characters in the given pattern:\n",
      "A\n",
      "B B\n",
      "C C C\n",
      "D D D D\n"
     ]
    }
   ],
   "source": [
    "# Describing the functionality of the two function chr() and ord().\n",
    "\n",
    "print(\"The character for the given unicode 97 is:\",chr(97))\n",
    "print(\"The unicode for the given character A is:\",ord('A'))\n",
    "\n",
    "print(\"Printing the characters in the given pattern:\")\n",
    "N = 4\n",
    "for i in range(N):\n",
    "    print(\" \".join(chr(65+i)*(i+1)))\n",
    "   \n",
    "\n"
   ]
  },
  {
   "cell_type": "markdown",
   "id": "69f506f9",
   "metadata": {},
   "source": [
    "# Question 7"
   ]
  },
  {
   "cell_type": "markdown",
   "id": "62ae91e5",
   "metadata": {},
   "source": [
    "# 7.You have a single list of names (each name should have first name and last name). Write a programme\n",
    "\n",
    "(a) to print the first names.\n",
    "\n",
    "(b) to print the last names.\n",
    "\n",
    "(c) to print each name as 'last_name first_name.\n",
    "\n",
    "(d) to print the names in the sorted order with respect to last name"
   ]
  },
  {
   "cell_type": "code",
   "execution_count": 116,
   "id": "0d1d1daa",
   "metadata": {},
   "outputs": [
    {
     "name": "stdout",
     "output_type": "stream",
     "text": [
      "Printing of the first names:\n",
      "['Abani', 'Rabi', 'Rohit', 'Joy', 'Venkey']\n",
      "Printing of the last names:\n",
      "['Singha', 'Kumar', 'Roy', 'Thakur', 'Tentu']\n",
      "Printing the names as last_names first_names: \n",
      "['Singha Abani', 'Kumar Rabi', 'Roy Rohit', 'Thakur Joy', 'Tentu Venkey']\n",
      "Printing the names as a sorted order with respect to the last_name:\n",
      "['Rabi Kumar', 'Rohit Roy', 'Abani Singha', 'Venkey Tentu', 'Joy Thakur']\n"
     ]
    }
   ],
   "source": [
    "name_lst = ['Abani Singha','Rabi Kumar','Rohit Roy','Joy Thakur','Venkey Tentu']\n",
    "print(\"Printing of the first names:\")\n",
    "k = []\n",
    "str1 = []\n",
    "for i in name_lst:\n",
    "    k = i.split()\n",
    "    str1.append(k[0])\n",
    "print(str1)\n",
    "\n",
    "print(\"Printing of the last names:\") \n",
    "str2 = []\n",
    "for i in name_lst:\n",
    "    k = i.split()\n",
    "    str2.append(k[1])\n",
    "print(str2)\n",
    "\n",
    "print(\"Printing the names as last_names first_names: \")\n",
    "str3 = []\n",
    "for i in name_lst:\n",
    "    k = i.split()\n",
    "    st = k[1] + \" \" + k[0]\n",
    "    str3.append(st)\n",
    "print(str3)        \n",
    "\n",
    "print(\"Printing the names as a sorted order with respect to the last_name:\")\n",
    "new_str = sorted(str3)\n",
    "str4 = []\n",
    "for i in new_str:\n",
    "    k = i.split()\n",
    "    st = k[1] + \" \" + k[0]\n",
    "    str4.append(st)\n",
    "print(str4)"
   ]
  },
  {
   "cell_type": "code",
   "execution_count": null,
   "id": "1f6debe9",
   "metadata": {},
   "outputs": [],
   "source": []
  },
  {
   "cell_type": "markdown",
   "id": "5a4956e7",
   "metadata": {},
   "source": [
    "# 8. WAP to find the minimum of 3 numbers using\n",
    "\n",
    " a) with conditional expressions. (No loops should be used)\n",
    "\n",
    " b) with nested conditional expression. (No loops should be used)\n",
    "\n",
    " c) similar to problem (b), find the minimum of 4 numbers."
   ]
  },
  {
   "cell_type": "code",
   "execution_count": 13,
   "id": "b866e0ec",
   "metadata": {},
   "outputs": [
    {
     "name": "stdout",
     "output_type": "stream",
     "text": [
      "Enter three numbers by giving space: 2 3 4\n",
      "The minimum among the elements is 2\n"
     ]
    }
   ],
   "source": [
    "# Finding the minimum among the 3 numbers by using conditional expression (No loops should be used)\n",
    "\n",
    "a,b,c = input(\"Enter three numbers by giving space: \").split()\n",
    "a = int(a)\n",
    "b = int(b)\n",
    "c = int(c)\n",
    "\n",
    "if a<b<c:\n",
    "    print(\"The minimum among the elements is:\",a)\n",
    "elif b<c<a:\n",
    "    print(\"The minimum among the elements is:\",b)\n",
    "else:\n",
    "    print(\"The minimum among the elements is:\",c)\n",
    "\n"
   ]
  },
  {
   "cell_type": "code",
   "execution_count": 14,
   "id": "d7a41baa",
   "metadata": {},
   "outputs": [
    {
     "name": "stdout",
     "output_type": "stream",
     "text": [
      "Enter three numbers by giving space: 45 67 8\n",
      "The minimum among the elements is 8\n"
     ]
    }
   ],
   "source": [
    "# Finding the minimum among the 3 numbers by using nested conditional expression (No loops should be used)\n",
    "\n",
    "a,b,c = input(\"Enter three numbers by giving space: \").split()\n",
    "a = int(a)\n",
    "b = int(b)\n",
    "c = int(c)\n",
    "\n",
    "if a>b:\n",
    "    if b<c:\n",
    "        print(\"The minimum among the elements is\",b)\n",
    "    else:\n",
    "        print(\"The minimum among the elements is\",c)\n",
    "else:\n",
    "    if a<c:\n",
    "        print(\"The minimum among the elements is\",a)\n",
    "    else:\n",
    "        print(\"The minimum among the elements is\",c)\n",
    "\n",
    "\n"
   ]
  },
  {
   "cell_type": "code",
   "execution_count": 15,
   "id": "56d2e34b",
   "metadata": {},
   "outputs": [
    {
     "name": "stdout",
     "output_type": "stream",
     "text": [
      "Enter three numbers by giving space: 2 3 4 5\n",
      "The minimum among the elements is 2\n"
     ]
    }
   ],
   "source": [
    "# Finding the minimum among the 4 numbers by using nested conditional expression (No loops should be used)\n",
    "\n",
    "a,b,c,d = input(\"Enter three numbers by giving space: \").split()\n",
    "a = int(a)\n",
    "b = int(b)\n",
    "c = int(c)\n",
    "d = int(d)\n",
    "\n",
    "if a>b:\n",
    "    if b<c<d:\n",
    "        print(\"The minimum among the elements is\",b)\n",
    "    elif c<b<d:\n",
    "        print(\"The minimum among the elements is\",c)\n",
    "    else:\n",
    "        print(\"The minimum among the elements is\",d)\n",
    "else:\n",
    "    if a<c<d:\n",
    "        print(\"The minimum among the elements is\",a)\n",
    "    elif c<a<d:\n",
    "        print(\"The minimum among the elements is\",c)\n",
    "    else:\n",
    "        print(\"The minimum among the elements is\",d)\n",
    "\n"
   ]
  },
  {
   "cell_type": "markdown",
   "id": "8fd6506c",
   "metadata": {},
   "source": [
    "# 9. Create a list of departments in IIT Madras (Minimum 5 ) and perform the following operations:\n",
    "\n",
    " append,\n",
    "remove,\n",
    "pop,\n",
    "insert, \n",
    "reverse,\n",
    "sort,\n",
    "count,\n",
    "index,\n",
    "extend,\n",
    "slice,\n",
    "clear"
   ]
  },
  {
   "cell_type": "code",
   "execution_count": 34,
   "id": "5dbfe3e1",
   "metadata": {},
   "outputs": [
    {
     "name": "stdout",
     "output_type": "stream",
     "text": [
      "Performing the operation append()\n",
      "Printing the list after append operation: ['MA', 'ME', 'CS', 'DOMS', 'BT', 'CE', 'EE', 'ED']\n",
      "Performing the operation remove()\n",
      "Printing the list after remove operation: ['MA', 'ME', 'CS', 'DOMS', 'CE', 'EE', 'ED']\n",
      "Performing the operation pop()\n",
      "poped deperment is: ED\n",
      "Printing the list after pop operation: ['MA', 'ME', 'CS', 'DOMS', 'CE', 'EE']\n",
      "Performing the operation insert()\n",
      "Insecting the depertment AE at the index 1. \n",
      "Printing the list after insert operation: ['MA', 'AE', 'ME', 'CS', 'DOMS', 'CE', 'EE']\n",
      "Performing the operation reverse()\n",
      "Printing the list after reverse operation: ['EE', 'CE', 'DOMS', 'CS', 'ME', 'AE', 'MA']\n",
      "Performing the operation sort()\n",
      "Printing the list after sort operation: ['AE', 'CE', 'CS', 'DOMS', 'EE', 'MA', 'ME']\n",
      "Performing the operation count()\n",
      "Number of occurence of the dept 'DOMS' in the depertment list is: 1\n",
      "Performing the operation index()\n",
      "The dept 'MA' comes 5 th index in sorted the depertment list.\n",
      "After extending with other departments: ['AE', 'CE', 'CS', 'DOMS', 'EE', 'MA', 'ME', 'CE', 'OE']\n",
      "Slice the list to get a subset from the dept_lst\n",
      "Subset of departments (index 0 to 4): ['AE', 'CE', 'CS', 'DOMS', 'EE']\n",
      "Performing the clear operation.\n",
      "After clearing the list: []\n"
     ]
    }
   ],
   "source": [
    "dept_lst = ['MA','ME','CS','DOMS','BT','CE','EE']\n",
    "\n",
    "print(\"Performing the operation append()\")\n",
    "dept_lst.append('ED')\n",
    "print(\"Printing the list after append operation:\",dept_lst)\n",
    "\n",
    "print(\"Performing the operation remove()\")\n",
    "dept_lst.remove('BT')\n",
    "print(\"Printing the list after remove operation:\",dept_lst)\n",
    "\n",
    "print(\"Performing the operation pop()\")\n",
    "pop_dept = dept_lst.pop()\n",
    "print(\"poped deperment is:\",pop_dept)\n",
    "print(\"Printing the list after pop operation:\",dept_lst)\n",
    "\n",
    "print(\"Performing the operation insert()\")\n",
    "dept_lst.insert(1,'AE')\n",
    "print(\"Insecting the depertment AE at the index 1. \")\n",
    "print(\"Printing the list after insert operation:\",dept_lst)\n",
    "\n",
    "print(\"Performing the operation reverse()\")\n",
    "dept_lst.reverse()\n",
    "print(\"Printing the list after reverse operation:\",dept_lst)\n",
    "\n",
    "print(\"Performing the operation sort()\")\n",
    "dept_lst.sort()\n",
    "print(\"Printing the list after sort operation:\",dept_lst)\n",
    "\n",
    "print(\"Performing the operation count()\")\n",
    "n = dept_lst.count('DOMS')\n",
    "print(\"Number of occurence of the dept 'DOMS' in the depertment list is:\",n)\n",
    "\n",
    "print(\"Performing the operation index()\")\n",
    "n = dept_lst.index('MA')\n",
    "print(\"The dept '{}' comes {} th index in sorted the depertment list.\".format('MA',n))\n",
    "\n",
    "other_depts = ['CE','OE']\n",
    "dept_lst.extend(other_depts)\n",
    "print(\"After extending with other departments:\", dept_lst)\n",
    "\n",
    "print(\"Slice the list to get a subset from the dept_lst\")\n",
    "subset = dept_lst[0:5]\n",
    "print(\"Subset of departments (index 0 to 4):\", subset)\n",
    "\n",
    "print(\"Performing the clear operation.\")\n",
    "dept_lst.clear()\n",
    "print(\"After clearing the list:\", dept_lst)"
   ]
  },
  {
   "cell_type": "code",
   "execution_count": 47,
   "id": "0b960811",
   "metadata": {},
   "outputs": [
    {
     "name": "stdout",
     "output_type": "stream",
     "text": [
      "Printing of the first names:\n",
      "['Abani', 'Rabi', 'Rohit', 'Joy', 'Venkey']\n"
     ]
    }
   ],
   "source": [
    "name_lst = ['Abani Singha','Rabi Kumar','Rohit Roy','Joy Thakur','Venkey Tentu']\n",
    "print(\"Printing of the first names:\")\n",
    "k = []\n",
    "str1 = []\n",
    "for i in name_lst:\n",
    "    k = i.split()\n",
    "    str1.append(k[0])\n",
    "print(str1)"
   ]
  },
  {
   "cell_type": "code",
   "execution_count": 48,
   "id": "69f5d00c",
   "metadata": {},
   "outputs": [
    {
     "name": "stdout",
     "output_type": "stream",
     "text": [
      "Split names at the 3rd index:\n",
      "[['Ab', 'ani Singha'], ['Ra', 'bi Kumar'], ['Ro', 'hit Roy'], ['Jo', 'y Thakur'], ['Ve', 'nkey Tentu']]\n"
     ]
    }
   ],
   "source": [
    "# List of full names\n",
    "name_lst = ['Abani Singha', 'Rabi Kumar', 'Rohit Roy', 'Joy Thakur', 'Venkey Tentu']\n",
    "\n",
    "# Initialize an empty list to store the split names\n",
    "split_names = []\n",
    "\n",
    "# Loop through each name in the list\n",
    "for name in name_lst:\n",
    "    # Check if the name has at least 3 characters\n",
    "    if len(name) > 2:\n",
    "        # Split the name at the character in the 3rd index and append to the list\n",
    "        split_names.append([name[:2], name[2:]])\n",
    "\n",
    "# Print the split names\n",
    "print(\"Split names at the 3rd index:\")\n",
    "print(split_names)\n"
   ]
  },
  {
   "cell_type": "code",
   "execution_count": 1,
   "id": "55fa55cd",
   "metadata": {},
   "outputs": [
    {
     "name": "stdout",
     "output_type": "stream",
     "text": [
      "1\n",
      "2\n",
      "3\n",
      "4\n"
     ]
    }
   ],
   "source": [
    "for i in range(1,5):\n",
    "    print(i)"
   ]
  },
  {
   "cell_type": "code",
   "execution_count": null,
   "id": "e661f18e",
   "metadata": {},
   "outputs": [],
   "source": []
  }
 ],
 "metadata": {
  "kernelspec": {
   "display_name": "Python 3 (ipykernel)",
   "language": "python",
   "name": "python3"
  },
  "language_info": {
   "codemirror_mode": {
    "name": "ipython",
    "version": 3
   },
   "file_extension": ".py",
   "mimetype": "text/x-python",
   "name": "python",
   "nbconvert_exporter": "python",
   "pygments_lexer": "ipython3",
   "version": "3.11.3"
  }
 },
 "nbformat": 4,
 "nbformat_minor": 5
}
