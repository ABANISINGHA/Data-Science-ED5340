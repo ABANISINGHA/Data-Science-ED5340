{
 "cells": [
  {
   "cell_type": "markdown",
   "id": "695c66f3",
   "metadata": {},
   "source": [
    "# 1. Write a program(WAP) using loops and recursion: \n",
    "\n",
    "a) Factorial of n where n is a non negative integer. \n",
    "\n",
    "b) For calculating the Nth Fibonacci number.\n",
    "\n",
    "c) To calculate a^b where a>0, b>=0."
   ]
  },
  {
   "cell_type": "code",
   "execution_count": 7,
   "id": "960b4285",
   "metadata": {},
   "outputs": [
    {
     "name": "stdout",
     "output_type": "stream",
     "text": [
      "Enter a non negative integer:0\n",
      "Factorial of 0 is 1\n"
     ]
    }
   ],
   "source": [
    "# a) Factorial of n where n is a non negative integer.\n",
    "# finding factorial using recursion\n",
    "def factorial(n):\n",
    "    if n == 0:\n",
    "        return 1\n",
    "    if n>0:\n",
    "        return n*factorial(n-1)\n",
    "n = int(input(\"Enter a non negative integer:\"))\n",
    "print(\"Factorial of {} is {}\".format(n,factorial(n)))\n"
   ]
  },
  {
   "cell_type": "code",
   "execution_count": 10,
   "id": "5cef09a4",
   "metadata": {},
   "outputs": [
    {
     "name": "stdout",
     "output_type": "stream",
     "text": [
      "Enter a non negative integer:5\n",
      "Factorial of 5 is 120\n"
     ]
    }
   ],
   "source": [
    "# finding factorial using for loop\n",
    "\n",
    "def factorial_by_loop(n):\n",
    "    f = 1\n",
    "    if n>0:\n",
    "        for i in range(1,n+1):\n",
    "            f = f * i\n",
    "        return f\n",
    "    if n == 0:\n",
    "        return 1\n",
    "n = int(input(\"Enter a non negative integer:\"))\n",
    "print(\"Factorial of {} is {}\".format(n,factorial_by_loop(n)))\n",
    "\n",
    "        \n",
    "            \n",
    "        "
   ]
  },
  {
   "cell_type": "code",
   "execution_count": 19,
   "id": "bbe2d077",
   "metadata": {},
   "outputs": [
    {
     "name": "stdout",
     "output_type": "stream",
     "text": [
      "Enter a non negative integer:4\n",
      "4th number of fibonacci series is 2\n"
     ]
    }
   ],
   "source": [
    "# b) For calculating the Nth Fibonacci number.\n",
    "# Fibonacci series: 0,1,1,2,3,5,8,13,.........\n",
    "def fibonacci(n):\n",
    "    if n == 1: \n",
    "        return 0\n",
    "    if  n == 2:\n",
    "        return 1\n",
    "    if n>2:\n",
    "        return fibonacci(n-1) + fibonacci(n-2)\n",
    "n = int(input(\"Enter a non negative integer:\"))\n",
    "print(\"{}th number of fibonacci series is {}\".format(n,fibonacci(n)))\n"
   ]
  },
  {
   "cell_type": "code",
   "execution_count": 31,
   "id": "5bc4dcb1",
   "metadata": {},
   "outputs": [
    {
     "name": "stdout",
     "output_type": "stream",
     "text": [
      "Enter a non negative integer:4\n",
      "4th number of fibonacci series is 2\n"
     ]
    }
   ],
   "source": [
    "def fibonacci_by_loop(n):\n",
    "    ls = [0,1]\n",
    "    a,b = 0,1\n",
    "    for i in range(2,n):\n",
    "        ls.append(ls[i-2]+ls[i-1])\n",
    "        \n",
    "    return ls\n",
    "        \n",
    "n = int(input(\"Enter a non negative integer:\"))\n",
    "fibonacci_series = fibonacci_by_loop(n)\n",
    "print(\"{}th number of fibonacci series is {}\".format(n,fibonacci_series[n-1]))\n",
    "        \n",
    "    "
   ]
  },
  {
   "cell_type": "code",
   "execution_count": 34,
   "id": "fd420b02",
   "metadata": {},
   "outputs": [
    {
     "name": "stdout",
     "output_type": "stream",
     "text": [
      "Enter two integers where a>0, b>=0:2 4\n",
      "The value of 2^4 is 16\n"
     ]
    }
   ],
   "source": [
    "#c) To calculate a^b where a>0, b>=0.\n",
    "def cal_exponent_by_loop(a,b):\n",
    "    p = 1\n",
    "    for i in range(b):\n",
    "        p = p*a\n",
    "    return p\n",
    "a,b = input(\"Enter two integers where a>0, b>=0:\").split()\n",
    "print(\"The value of {}^{} is {}\".format(a,b,cal_exponent_by_loop(int(a),int(b))))\n",
    "    "
   ]
  },
  {
   "cell_type": "code",
   "execution_count": 35,
   "id": "18491bad",
   "metadata": {},
   "outputs": [
    {
     "name": "stdout",
     "output_type": "stream",
     "text": [
      "Enter two integers where a>0, b>=0:2 0\n",
      "The value of 2^0 is 1\n"
     ]
    }
   ],
   "source": [
    "def cal_exponent_by_recursion(a,b):\n",
    "    if b == 0:\n",
    "        return 1\n",
    "    if b == 1:\n",
    "        return a\n",
    "    if b>1:\n",
    "        return a*cal_exponent_by_recursion(a,b-1) \n",
    "    \n",
    "a,b = input(\"Enter two integers where a>0, b>=0:\").split()\n",
    "print(\"The value of {}^{} is {}\".format(a,b,cal_exponent_by_recursion(int(a),int(b))))\n",
    "            \n",
    "   \n",
    "    "
   ]
  },
  {
   "cell_type": "markdown",
   "id": "a9f09149",
   "metadata": {},
   "source": [
    "# 2. Query for 2 integers N and M from the user where 0<=N<=100 and 0<=M<=9. These will be the inputs to your function. Using recursion, compute the number of times the integer M occurs in all non-negative integers less than or equal to N.\n",
    "example: For N=13 and M=1, count=6 (numbers 1,10,11,12,13)."
   ]
  },
  {
   "cell_type": "code",
   "execution_count": 81,
   "id": "9545f7ae",
   "metadata": {},
   "outputs": [
    {
     "name": "stdout",
     "output_type": "stream",
     "text": [
      "Enter two integers a and b where 0<=a<=100 and 0<=b<=9:13 1\n",
      "The integer 1 occurs in all non-negative integers less than or equal to 13 is 6 times\n"
     ]
    }
   ],
   "source": [
    "a,b = input(\"Enter two integers a and b where 0<=a<=100 and 0<=b<=9:\").split()\n",
    "a = int(a)\n",
    "b = int(b)\n",
    "def count_num(a,b):\n",
    "    if a < b:\n",
    "        return 0\n",
    "    st = str(a)\n",
    "    count = st.count(str(b))\n",
    "    return count + count_num(a-1,b)\n",
    "    \n",
    "print(\"The integer {} occurs in all non-negative integers less than or equal to {} is {} times\".format(b,a,count_num(a,b)))    "
   ]
  },
  {
   "cell_type": "code",
   "execution_count": null,
   "id": "5aad7a51",
   "metadata": {},
   "outputs": [],
   "source": []
  },
  {
   "cell_type": "code",
   "execution_count": null,
   "id": "f6f9ce70",
   "metadata": {},
   "outputs": [],
   "source": []
  },
  {
   "cell_type": "markdown",
   "id": "7d77b7b9",
   "metadata": {},
   "source": [
    "# 3. Programs using lambda function.\n",
    "\n",
    "#a) Given a list of names, use map to create a list where each name is prefixed with \"Hello, \".\n",
    "\n",
    "Example Input: ['Alice', 'Bob', 'Charlie']\n",
    "Example Output: ['Hello, Alice', 'Hello, Bob', 'Hello, Charlie']\n",
    "#b) Use filter and a lambda function to extract all even numbers from a given list.\n",
    "\n",
    "Example Input: [1, 2, 3, 4, 5, 6]\n",
    "Example Output: [2, 4, 6]\n",
    "#c) Use reduce and lambda to concatenate all strings in a given list.\n",
    "\n",
    "Example Input: ['Python', 'is', 'awesome']\n",
    "Example Output: 'Pythonisawesome'"
   ]
  },
  {
   "cell_type": "code",
   "execution_count": 38,
   "id": "3bc58c0b",
   "metadata": {},
   "outputs": [
    {
     "name": "stdout",
     "output_type": "stream",
     "text": [
      "['Hello,Alice', 'Hello,Bob', 'Hello,Charlie']\n"
     ]
    }
   ],
   "source": [
    "# a) Given a list of names, use map to create a list where each name is prefixed with \"Hello, \".\n",
    "\n",
    "name_lst =  ['Alice', 'Bob', 'Charlie'] \n",
    "changed_name_lst = map(lambda x: \"Hello,\"+x, name_lst)\n",
    "print(list(changed_name_lst))\n"
   ]
  },
  {
   "cell_type": "code",
   "execution_count": 41,
   "id": "1aa4e11b",
   "metadata": {},
   "outputs": [
    {
     "name": "stdout",
     "output_type": "stream",
     "text": [
      "[2, 4, 6]\n"
     ]
    }
   ],
   "source": [
    "# Use filter and a lambda function to extract all even numbers from a given list.\n",
    "\n",
    "numbers = [1, 2, 3, 4, 5,6]\n",
    "even_numbers = filter(lambda x: x % 2 == 0, numbers)\n",
    "print(list(even_numbers))"
   ]
  },
  {
   "cell_type": "code",
   "execution_count": 42,
   "id": "1c11d5ab",
   "metadata": {},
   "outputs": [
    {
     "name": "stdout",
     "output_type": "stream",
     "text": [
      "Pythonisawesome\n"
     ]
    }
   ],
   "source": [
    "#c) Use reduce and lambda to concatenate all strings in a given list.\n",
    "\n",
    "# Example Input: ['Python', 'is', 'awesome'] Example Output: 'Pythonisawesome'\n",
    "\n",
    "from functools import reduce\n",
    "lst =  ['Python', 'is', 'awesome']\n",
    "reduced_lst = reduce(lambda x, y: x + y, lst)\n",
    "print(reduced_lst)  \n",
    "\n"
   ]
  },
  {
   "cell_type": "markdown",
   "id": "f971ec76",
   "metadata": {},
   "source": [
    "# 4.   Define a class Complex that defines a complex number with attributes real and imaginary (as we did in the class). Define operators for addition, subtraction, multiplication and division (Do with both operator overloading as well as without overloading). While printing the output, print in the form of complex number form like ( a + ib)  - 10 marks ( 1 mark each for each of the operations with and without operator overloading)\n",
    "\n",
    "\n",
    "\n"
   ]
  },
  {
   "cell_type": "code",
   "execution_count": 77,
   "id": "a4d909a1",
   "metadata": {},
   "outputs": [
    {
     "name": "stdout",
     "output_type": "stream",
     "text": [
      "0+0i\n",
      "2+3i\n",
      "10+3i\n",
      "12+6i\n",
      "Addition of two complex numbers 2 + 3i and 10 + 3i is 12 + 6i\n",
      "14+9i\n",
      "Addition of two complex numbers 12 + 6i and 2 + 3i is 14 + 9i\n",
      "10+3i\n",
      "Subtruction of the complex number 2 + 3i from 12 + 6i is 10 + 3i\n",
      "10+3i\n",
      "Subtruction of the complex number 2 + 3i from 12 + 6i is 10 + 3i\n",
      "11+36i\n",
      "Multiplication of two complex numbers 2 + 3i and 10 + 3i is 11 + 36i\n",
      "11+36i\n",
      "Multiplication of two complex numbers 2 + 3i and 10 + 3i is 11 + 36i\n",
      "3.230769230769231+1.8461538461538463i\n",
      "Division of the complex number 12 + 6i by 2 + 3i is 3.230769230769231 + 1.8461538461538463i\n",
      "3.230769230769231+1.8461538461538463i\n",
      "Division of the complex number 12 + 6i by 2 + 3i is 3.230769230769231 + 1.8461538461538463i\n"
     ]
    }
   ],
   "source": [
    "class complex_Nums:\n",
    "    def __init__(self,a = 0,b = 0):\n",
    "        self.real = a\n",
    "        self.imaginary = b\n",
    "    def Print(self):\n",
    "        print(\"{}+{}i\".format(self.real,self.imaginary))\n",
    "        return [self.real, self.imaginary]\n",
    "    def add_nums(self,other):   # Addition function without operator overloading\n",
    "        c = complex_Nums()\n",
    "        c.real=self.real+other.real\n",
    "        c.imaginary=self.imaginary+ other.imaginary \n",
    "        return c\n",
    "    def __add__(self,other):# Addition function with operator overloading\n",
    "        c = complex_Nums()\n",
    "        c.real=self.real+other.real\n",
    "        c.imaginary=self.imaginary+ other.imaginary \n",
    "        return c\n",
    "    def sub_nums(self,other):   # Subtruction function without operator overloading\n",
    "        c = complex_Nums()\n",
    "        c.real=self.real-other.real\n",
    "        c.imaginary=self.imaginary - other.imaginary \n",
    "        return c\n",
    "    def __sub__(self,other):# Subtruction function with operator overloading\n",
    "        c = complex_Nums()\n",
    "        c.real=self.real-other.real\n",
    "        c.imaginary=self.imaginary- other.imaginary \n",
    "        return c\n",
    "    def prod_nums(self,other):   # Multiplication function without operator overloading\n",
    "        c = complex_Nums()\n",
    "        c.real=self.real*other.real - (self.imaginary* other.imaginary)\n",
    "        c.imaginary=self.real*other.imaginary + (self.imaginary* other.real) \n",
    "        return c\n",
    "    def __mul__(self,other):# Multiplication function with operator overloading\n",
    "        c = complex_Nums()\n",
    "        c.real=self.real*other.real - (self.imaginary* other.imaginary)\n",
    "        c.imaginary=self.real*other.imaginary + (self.imaginary* other.real) \n",
    "        return c\n",
    "    def div_nums(self,other):   # Division function without operator overloading\n",
    "        c = complex_Nums()\n",
    "        c.real=(self.real*other.real + self.imaginary* other.imaginary)/(other.real**2 + other.imaginary**2)\n",
    "        c.imaginary=(self.real*other.imaginary - self.imaginary* other.real)/(other.real**2 + other.imaginary**2) \n",
    "        return c\n",
    "    def __truediv__(self,other):# Division function with operator overloading\n",
    "        c = complex_Nums()\n",
    "        c.real=(self.real*other.real + self.imaginary* other.imaginary)/(other.real**2 + other.imaginary**2)\n",
    "        c.imaginary=(self.real*other.imaginary - self.imaginary* other.real)/(other.real**2 + other.imaginary**2) \n",
    "        return c\n",
    "    \n",
    "c1 =  complex_Nums() \n",
    "c1.Print()\n",
    "c2 =  complex_Nums(2,3) \n",
    "a = c2.Print()\n",
    "c3 =  complex_Nums(10,3)\n",
    "b = c3.Print()\n",
    "c4 = c3.add_nums(c2)\n",
    "d =c4.Print()\n",
    "print(\"Addition of two complex numbers {} + {}i and {} + {}i is {} + {}i\".format(a[0], a[1], b[0],b[1],d[0],d[1]))\n",
    "c5 = complex_Nums() \n",
    "c5 = c4 + c2\n",
    "a1 =c5.Print()\n",
    "print(\"Addition of two complex numbers {} + {}i and {} + {}i is {} + {}i\".format(d[0], d[1], a[0],a[1],a1[0],a1[1]))\n",
    "\n",
    "c6 = complex_Nums() \n",
    "c6 = c4 - c2\n",
    "s1 =c6.Print()\n",
    "print(\"Subtruction of the complex number {} + {}i from {} + {}i is {} + {}i\".format( a[0],a[1],d[0], d[1],s1[0],s1[1]))\n",
    "c7 = c4.sub_nums(c2)     \n",
    "s2 =c7.Print()    \n",
    "print(\"Subtruction of the complex number {} + {}i from {} + {}i is {} + {}i\".format( a[0],a[1],d[0], d[1],s2[0],s2[1]))\n",
    "    \n",
    "c8 = c3.prod_nums(c2)\n",
    "m1 =c8.Print()\n",
    "print(\"Multiplication of two complex numbers {} + {}i and {} + {}i is {} + {}i\".format(a[0], a[1], b[0],b[1],m1[0],m1[1]))\n",
    "c9 = complex_Nums() \n",
    "c9 = c3 * c2\n",
    "m2 =c9.Print()\n",
    "print(\"Multiplication of two complex numbers {} + {}i and {} + {}i is {} + {}i\".format(a[0], a[1], b[0],b[1],m2[0],m2[1]))\n",
    "    \n",
    "c10 = complex_Nums() \n",
    "c10 = c4/c2\n",
    "d1 =c10.Print()\n",
    "print(\"Division of the complex number {} + {}i by {} + {}i is {} + {}i\".format( d[0], d[1],a[0],a[1],d1[0],d1[1]))\n",
    "c11 = c4.div_nums(c2)     \n",
    "d2 =c11.Print()    \n",
    "print(\"Division of the complex number {} + {}i by {} + {}i is {} + {}i\".format( d[0], d[1],a[0],a[1],d2[0],d2[1]))\n",
    "    \n",
    "    "
   ]
  },
  {
   "cell_type": "code",
   "execution_count": null,
   "id": "7370793e",
   "metadata": {},
   "outputs": [],
   "source": []
  },
  {
   "cell_type": "code",
   "execution_count": null,
   "id": "0ab91a4b",
   "metadata": {},
   "outputs": [],
   "source": []
  }
 ],
 "metadata": {
  "kernelspec": {
   "display_name": "Python 3 (ipykernel)",
   "language": "python",
   "name": "python3"
  },
  "language_info": {
   "codemirror_mode": {
    "name": "ipython",
    "version": 3
   },
   "file_extension": ".py",
   "mimetype": "text/x-python",
   "name": "python",
   "nbconvert_exporter": "python",
   "pygments_lexer": "ipython3",
   "version": "3.11.3"
  }
 },
 "nbformat": 4,
 "nbformat_minor": 5
}
