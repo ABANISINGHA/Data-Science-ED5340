{
 "cells": [
  {
   "cell_type": "markdown",
   "id": "0f521398",
   "metadata": {},
   "source": [
    "# # Question 1"
   ]
  },
  {
   "cell_type": "code",
   "execution_count": 14,
   "id": "86e7df7a",
   "metadata": {},
   "outputs": [
    {
     "name": "stdout",
     "output_type": "stream",
     "text": [
      "The value of the expression is = 35.44789594116947\n",
      "The difference of the areas of the circles is =  12.566370614359172\n"
     ]
    }
   ],
   "source": [
    "import math as m\n",
    "# 1st part\n",
    "S = 7*(m.log(3))*(m.log(5) + m.log(m.exp(3)))\n",
    "print('The value of the expression is =',S)\n",
    "\n",
    "# 2nd part\n",
    "d1 = 5 # diameter of the 1st circle\n",
    "d2 = 3 # diameter of the 2nd circle\n",
    "\n",
    "A1 = m.pi*(d1/2)**2 # Area of the 1st circle\n",
    "A2 = m.pi*(d2/2)**2 # Area of the 2nd circle\n",
    "d = A1 - A2\n",
    "print('The difference of the areas of the circles is = ', d)"
   ]
  },
  {
   "cell_type": "code",
   "execution_count": 4,
   "id": "66fe351c",
   "metadata": {},
   "outputs": [
    {
     "name": "stdout",
     "output_type": "stream",
     "text": [
      "Help on built-in module math:\n",
      "\n",
      "NAME\n",
      "    math\n",
      "\n",
      "DESCRIPTION\n",
      "    This module provides access to the mathematical functions\n",
      "    defined by the C standard.\n",
      "\n",
      "FUNCTIONS\n",
      "    acos(x, /)\n",
      "        Return the arc cosine (measured in radians) of x.\n",
      "        \n",
      "        The result is between 0 and pi.\n",
      "    \n",
      "    acosh(x, /)\n",
      "        Return the inverse hyperbolic cosine of x.\n",
      "    \n",
      "    asin(x, /)\n",
      "        Return the arc sine (measured in radians) of x.\n",
      "        \n",
      "        The result is between -pi/2 and pi/2.\n",
      "    \n",
      "    asinh(x, /)\n",
      "        Return the inverse hyperbolic sine of x.\n",
      "    \n",
      "    atan(x, /)\n",
      "        Return the arc tangent (measured in radians) of x.\n",
      "        \n",
      "        The result is between -pi/2 and pi/2.\n",
      "    \n",
      "    atan2(y, x, /)\n",
      "        Return the arc tangent (measured in radians) of y/x.\n",
      "        \n",
      "        Unlike atan(y/x), the signs of both x and y are considered.\n",
      "    \n",
      "    atanh(x, /)\n",
      "        Return the inverse hyperbolic tangent of x.\n",
      "    \n",
      "    cbrt(x, /)\n",
      "        Return the cube root of x.\n",
      "    \n",
      "    ceil(x, /)\n",
      "        Return the ceiling of x as an Integral.\n",
      "        \n",
      "        This is the smallest integer >= x.\n",
      "    \n",
      "    comb(n, k, /)\n",
      "        Number of ways to choose k items from n items without repetition and without order.\n",
      "        \n",
      "        Evaluates to n! / (k! * (n - k)!) when k <= n and evaluates\n",
      "        to zero when k > n.\n",
      "        \n",
      "        Also called the binomial coefficient because it is equivalent\n",
      "        to the coefficient of k-th term in polynomial expansion of the\n",
      "        expression (1 + x)**n.\n",
      "        \n",
      "        Raises TypeError if either of the arguments are not integers.\n",
      "        Raises ValueError if either of the arguments are negative.\n",
      "    \n",
      "    copysign(x, y, /)\n",
      "        Return a float with the magnitude (absolute value) of x but the sign of y.\n",
      "        \n",
      "        On platforms that support signed zeros, copysign(1.0, -0.0)\n",
      "        returns -1.0.\n",
      "    \n",
      "    cos(x, /)\n",
      "        Return the cosine of x (measured in radians).\n",
      "    \n",
      "    cosh(x, /)\n",
      "        Return the hyperbolic cosine of x.\n",
      "    \n",
      "    degrees(x, /)\n",
      "        Convert angle x from radians to degrees.\n",
      "    \n",
      "    dist(p, q, /)\n",
      "        Return the Euclidean distance between two points p and q.\n",
      "        \n",
      "        The points should be specified as sequences (or iterables) of\n",
      "        coordinates.  Both inputs must have the same dimension.\n",
      "        \n",
      "        Roughly equivalent to:\n",
      "            sqrt(sum((px - qx) ** 2.0 for px, qx in zip(p, q)))\n",
      "    \n",
      "    erf(x, /)\n",
      "        Error function at x.\n",
      "    \n",
      "    erfc(x, /)\n",
      "        Complementary error function at x.\n",
      "    \n",
      "    exp(x, /)\n",
      "        Return e raised to the power of x.\n",
      "    \n",
      "    exp2(x, /)\n",
      "        Return 2 raised to the power of x.\n",
      "    \n",
      "    expm1(x, /)\n",
      "        Return exp(x)-1.\n",
      "        \n",
      "        This function avoids the loss of precision involved in the direct evaluation of exp(x)-1 for small x.\n",
      "    \n",
      "    fabs(x, /)\n",
      "        Return the absolute value of the float x.\n",
      "    \n",
      "    factorial(n, /)\n",
      "        Find n!.\n",
      "        \n",
      "        Raise a ValueError if x is negative or non-integral.\n",
      "    \n",
      "    floor(x, /)\n",
      "        Return the floor of x as an Integral.\n",
      "        \n",
      "        This is the largest integer <= x.\n",
      "    \n",
      "    fmod(x, y, /)\n",
      "        Return fmod(x, y), according to platform C.\n",
      "        \n",
      "        x % y may differ.\n",
      "    \n",
      "    frexp(x, /)\n",
      "        Return the mantissa and exponent of x, as pair (m, e).\n",
      "        \n",
      "        m is a float and e is an int, such that x = m * 2.**e.\n",
      "        If x is 0, m and e are both 0.  Else 0.5 <= abs(m) < 1.0.\n",
      "    \n",
      "    fsum(seq, /)\n",
      "        Return an accurate floating point sum of values in the iterable seq.\n",
      "        \n",
      "        Assumes IEEE-754 floating point arithmetic.\n",
      "    \n",
      "    gamma(x, /)\n",
      "        Gamma function at x.\n",
      "    \n",
      "    gcd(*integers)\n",
      "        Greatest Common Divisor.\n",
      "    \n",
      "    hypot(...)\n",
      "        hypot(*coordinates) -> value\n",
      "        \n",
      "        Multidimensional Euclidean distance from the origin to a point.\n",
      "        \n",
      "        Roughly equivalent to:\n",
      "            sqrt(sum(x**2 for x in coordinates))\n",
      "        \n",
      "        For a two dimensional point (x, y), gives the hypotenuse\n",
      "        using the Pythagorean theorem:  sqrt(x*x + y*y).\n",
      "        \n",
      "        For example, the hypotenuse of a 3/4/5 right triangle is:\n",
      "        \n",
      "            >>> hypot(3.0, 4.0)\n",
      "            5.0\n",
      "    \n",
      "    isclose(a, b, *, rel_tol=1e-09, abs_tol=0.0)\n",
      "        Determine whether two floating point numbers are close in value.\n",
      "        \n",
      "          rel_tol\n",
      "            maximum difference for being considered \"close\", relative to the\n",
      "            magnitude of the input values\n",
      "          abs_tol\n",
      "            maximum difference for being considered \"close\", regardless of the\n",
      "            magnitude of the input values\n",
      "        \n",
      "        Return True if a is close in value to b, and False otherwise.\n",
      "        \n",
      "        For the values to be considered close, the difference between them\n",
      "        must be smaller than at least one of the tolerances.\n",
      "        \n",
      "        -inf, inf and NaN behave similarly to the IEEE 754 Standard.  That\n",
      "        is, NaN is not close to anything, even itself.  inf and -inf are\n",
      "        only close to themselves.\n",
      "    \n",
      "    isfinite(x, /)\n",
      "        Return True if x is neither an infinity nor a NaN, and False otherwise.\n",
      "    \n",
      "    isinf(x, /)\n",
      "        Return True if x is a positive or negative infinity, and False otherwise.\n",
      "    \n",
      "    isnan(x, /)\n",
      "        Return True if x is a NaN (not a number), and False otherwise.\n",
      "    \n",
      "    isqrt(n, /)\n",
      "        Return the integer part of the square root of the input.\n",
      "    \n",
      "    lcm(*integers)\n",
      "        Least Common Multiple.\n",
      "    \n",
      "    ldexp(x, i, /)\n",
      "        Return x * (2**i).\n",
      "        \n",
      "        This is essentially the inverse of frexp().\n",
      "    \n",
      "    lgamma(x, /)\n",
      "        Natural logarithm of absolute value of Gamma function at x.\n",
      "    \n",
      "    log(...)\n",
      "        log(x, [base=math.e])\n",
      "        Return the logarithm of x to the given base.\n",
      "        \n",
      "        If the base not specified, returns the natural logarithm (base e) of x.\n",
      "    \n",
      "    log10(x, /)\n",
      "        Return the base 10 logarithm of x.\n",
      "    \n",
      "    log1p(x, /)\n",
      "        Return the natural logarithm of 1+x (base e).\n",
      "        \n",
      "        The result is computed in a way which is accurate for x near zero.\n",
      "    \n",
      "    log2(x, /)\n",
      "        Return the base 2 logarithm of x.\n",
      "    \n",
      "    modf(x, /)\n",
      "        Return the fractional and integer parts of x.\n",
      "        \n",
      "        Both results carry the sign of x and are floats.\n",
      "    \n",
      "    nextafter(x, y, /)\n",
      "        Return the next floating-point value after x towards y.\n",
      "    \n",
      "    perm(n, k=None, /)\n",
      "        Number of ways to choose k items from n items without repetition and with order.\n",
      "        \n",
      "        Evaluates to n! / (n - k)! when k <= n and evaluates\n",
      "        to zero when k > n.\n",
      "        \n",
      "        If k is not specified or is None, then k defaults to n\n",
      "        and the function returns n!.\n",
      "        \n",
      "        Raises TypeError if either of the arguments are not integers.\n",
      "        Raises ValueError if either of the arguments are negative.\n",
      "    \n",
      "    pow(x, y, /)\n",
      "        Return x**y (x to the power of y).\n",
      "    \n",
      "    prod(iterable, /, *, start=1)\n",
      "        Calculate the product of all the elements in the input iterable.\n",
      "        \n",
      "        The default start value for the product is 1.\n",
      "        \n",
      "        When the iterable is empty, return the start value.  This function is\n",
      "        intended specifically for use with numeric values and may reject\n",
      "        non-numeric types.\n",
      "    \n",
      "    radians(x, /)\n",
      "        Convert angle x from degrees to radians.\n",
      "    \n",
      "    remainder(x, y, /)\n",
      "        Difference between x and the closest integer multiple of y.\n",
      "        \n",
      "        Return x - n*y where n*y is the closest integer multiple of y.\n",
      "        In the case where x is exactly halfway between two multiples of\n",
      "        y, the nearest even value of n is used. The result is always exact.\n",
      "    \n",
      "    sin(x, /)\n",
      "        Return the sine of x (measured in radians).\n",
      "    \n",
      "    sinh(x, /)\n",
      "        Return the hyperbolic sine of x.\n",
      "    \n",
      "    sqrt(x, /)\n",
      "        Return the square root of x.\n",
      "    \n",
      "    tan(x, /)\n",
      "        Return the tangent of x (measured in radians).\n",
      "    \n",
      "    tanh(x, /)\n",
      "        Return the hyperbolic tangent of x.\n",
      "    \n",
      "    trunc(x, /)\n",
      "        Truncates the Real x to the nearest Integral toward 0.\n",
      "        \n",
      "        Uses the __trunc__ magic method.\n",
      "    \n",
      "    ulp(x, /)\n",
      "        Return the value of the least significant bit of the float x.\n",
      "\n",
      "DATA\n",
      "    e = 2.718281828459045\n",
      "    inf = inf\n",
      "    nan = nan\n",
      "    pi = 3.141592653589793\n",
      "    tau = 6.283185307179586\n",
      "\n",
      "FILE\n",
      "    (built-in)\n",
      "\n",
      "\n"
     ]
    }
   ],
   "source": [
    "help(m)"
   ]
  },
  {
   "cell_type": "markdown",
   "id": "61397336",
   "metadata": {},
   "source": [
    "# Question 2"
   ]
  },
  {
   "cell_type": "code",
   "execution_count": 12,
   "id": "ba1fa918",
   "metadata": {},
   "outputs": [
    {
     "name": "stdout",
     "output_type": "stream",
     "text": [
      "Number of odd numbers: 37, Number of even numbers: 37\n"
     ]
    }
   ],
   "source": [
    "OddNum = (80 // 2) - (7 // 2)\n",
    "EvenNum = (80 // 2) - (7 // 2)\n",
    "#print('Number of odd numbers',OddNum)\n",
    "#print('Number of even numbers',EvenNum)\n",
    "\n",
    "print(\"Number of odd numbers: {}, Number of even numbers: {}\".format(OddNum, EvenNum))\n"
   ]
  },
  {
   "cell_type": "markdown",
   "id": "1bea3176",
   "metadata": {},
   "source": [
    "# Question 3"
   ]
  },
  {
   "cell_type": "code",
   "execution_count": 44,
   "id": "d3f3d99e",
   "metadata": {},
   "outputs": [
    {
     "name": "stdout",
     "output_type": "stream",
     "text": [
      "int: 42, Size: 28 bytes\n",
      "float: 3.14, Size: 24 bytes\n",
      "str: Hello, Size: 54 bytes\n",
      "list: [1, 2, 3], Size: 88 bytes\n",
      "tuple: (4, 5, 6), Size: 64 bytes\n",
      "set: {8, 9, 7}, Size: 216 bytes\n",
      "dict: {'a': 10, 'b': 11, 'c': 12}, Size: 184 bytes\n",
      "bool: True, Size: 28 bytes\n",
      "The size list of the variables in acending order [24, 28, 28, 54, 64, 88, 184, 216]\n"
     ]
    }
   ],
   "source": [
    "import sys\n",
    "# different variables\n",
    "integer_var = 42\n",
    "float_var = 3.14\n",
    "string_var = \"Hello\"\n",
    "list_var = [1, 2, 3]\n",
    "tuple_var = (4, 5, 6)\n",
    "set_var = {7, 8, 9}\n",
    "dict_var = {'a': 10, 'b': 11, 'c': 12}\n",
    "bool_var = True\n",
    "\n",
    "# Create a list of variables for \n",
    "variables = [integer_var, float_var, string_var, list_var, tuple_var, set_var, dict_var, boolean_var]\n",
    "\n",
    "# Function to print information about each variable\n",
    "def print_variable_info(var):\n",
    "    size = sys.getsizeof(var)\n",
    "    data_type = type(var).__name__\n",
    "    print(f\"{data_type}: {var}, Size: {size} bytes\")\n",
    "\n",
    "# Print information about each variable\n",
    "for var in variables:\n",
    "    print_variable_info(var)\n",
    "    \n",
    "def var_Size(var):\n",
    "    size = sys.getsizeof(var)\n",
    "    return size\n",
    "    \n",
    "size_list = [var_Size(integer_var),var_Size(float_var),var_Size(string_var),var_Size(list_var),var_Size(tuple_var),var_Size(set_var),var_Size(dict_var),var_Size(bool_var)]\n",
    "sorted_size_list = sorted(size_list)\n",
    "print(\"The size list of the variables in acending order\",sorted_size_list)"
   ]
  },
  {
   "cell_type": "markdown",
   "id": "803eafc9",
   "metadata": {},
   "source": [
    "# Question 4"
   ]
  },
  {
   "cell_type": "code",
   "execution_count": 18,
   "id": "f9fe7be3",
   "metadata": {},
   "outputs": [
    {
     "name": "stdout",
     "output_type": "stream",
     "text": [
      "Enter the seed value:1\n",
      "The sides of the cuboid are a = 27, b = 82, c = 18\n",
      "The surface area is =  8352\n"
     ]
    }
   ],
   "source": [
    "import random as rd\n",
    "seedValue = int(input('Enter the seed value:'))\n",
    "rd.seed(seedValue)\n",
    "# we are generating random integers between 10 and 100\n",
    "a = rd.randint(10,100)\n",
    "b = rd.randint(10,100)\n",
    "c = rd.randint(10,100)\n",
    "\n",
    "# Calculating Surface area\n",
    "S = 2*(a*b + b*c + c*a)\n",
    "print(\"The sides of the cuboid are a = {}, b = {}, c = {}\".format(a,b,c))\n",
    "print('The surface area is = ',S)"
   ]
  },
  {
   "cell_type": "markdown",
   "id": "91cb404a",
   "metadata": {},
   "source": [
    "# Question 5"
   ]
  },
  {
   "cell_type": "code",
   "execution_count": 14,
   "id": "5d7a740d",
   "metadata": {},
   "outputs": [
    {
     "name": "stdout",
     "output_type": "stream",
     "text": [
      "Enter the coeffitient of x^2, a (a!=0): 1\n",
      "Enter the coeffitient of x, b: 5\n",
      "Enter the  constant, c: 6\n",
      "The roots are real:\n",
      "Roots are r1 = -2.0, r2 = -3.0\n"
     ]
    }
   ],
   "source": [
    "# We are finding roots of a quadratic equation ax^2+bx+c=0\n",
    "import math as m\n",
    "p = int(input(\"Enter the coeffitient of x^2, a (a!=0): \"))\n",
    "if p==0:\n",
    "    print(\"In quadratic equation coeffitient of x^2 should be non zero, Enter again the value of a \")\n",
    "    \n",
    "else:\n",
    "    a = p\n",
    "    b = int(input(\"Enter the coeffitient of x, b: \"))\n",
    "    c = int(input(\"Enter the  constant, c: \"))\n",
    "d = (b*b - 4*a*c) # d = Discriminent\n",
    "\n",
    "if d>=0:\n",
    "    print(\"The roots are real:\")\n",
    "    r1 = (-b +m.sqrt(d))/(2*a)\n",
    "    r2 = (-b - m.sqrt(d))/(2*a)\n",
    "    print(\"Roots are r1 = {}, r2 = {}\".format(r1,r2))\n",
    "else:\n",
    "    print(\"The roots are complex\")"
   ]
  },
  {
   "cell_type": "markdown",
   "id": "e7d9d054",
   "metadata": {},
   "source": [
    "\n",
    "#  Question 6"
   ]
  },
  {
   "cell_type": "code",
   "execution_count": 22,
   "id": "5a9bae3d",
   "metadata": {},
   "outputs": [
    {
     "name": "stdout",
     "output_type": "stream",
     "text": [
      "Enter two integers:5 3\n",
      "The addition of two integers is:  8\n",
      "The subtruction of two integers is:  2\n",
      "The multiplication of two integers is:  15\n",
      "The division of two integers is:  1.6666666666666667\n",
      "The remainder is:  2\n",
      "The exponent (a^b) is:  125\n"
     ]
    }
   ],
   "source": [
    "a,b = input(\"Enter two integers:\").split()\n",
    "a = int(a)\n",
    "b = int(b)\n",
    "# Addition\n",
    "print(\"The addition of two integers is: \",a+b)\n",
    "# Subtruction\n",
    "print(\"The subtruction of two integers is: \",a-b)\n",
    "# Multiplication\n",
    "print(\"The multiplication of two integers is: \",a*b)\n",
    "# Division\n",
    "if b==0:\n",
    "    print(\"For division denominator should be non zero\")\n",
    "else:\n",
    "    print(\"The division of two integers is: \",a/b)\n",
    "\n",
    "# Remainder\n",
    "if b==0:\n",
    "    print(\"For division denominator should be non zero\")\n",
    "else:\n",
    "    print(\"The remainder is: \",a%b)\n",
    "\n",
    "# Exponent\n",
    "print(\"The exponent (a^b) is: \",a**b)\n",
    "\n"
   ]
  },
  {
   "cell_type": "markdown",
   "id": "ee15ea4e",
   "metadata": {},
   "source": [
    "# Question 7"
   ]
  },
  {
   "cell_type": "code",
   "execution_count": 29,
   "id": "0a93f150",
   "metadata": {},
   "outputs": [
    {
     "name": "stdout",
     "output_type": "stream",
     "text": [
      "The sentence is:  Learning python is fun\n",
      " Modified sentence: Learning datascience is fun\n",
      " Uppercase sentence: LEARNING PYTHON IS FUN\n",
      "Rearranged sentence: fun is python Learning\n"
     ]
    }
   ],
   "source": [
    "# Given words\n",
    "words = ['Learning', 'python', 'is', 'fun']\n",
    "\n",
    "#  Create a sentence by combining these words using '.join'\n",
    "s1 = \" \".join(words)\n",
    "print(\"The sentence is: \", s1)\n",
    "\n",
    "# Print the sentence \"Learning datascience is fun.\" using '.replace'\n",
    "s2 = words.replace('python', 'datascience')\n",
    "print(\" Modified sentence:\", s2)\n",
    "\n",
    "# Generate an uppercase version of the sentence: \"LEARNING PYTHON IS FUN.\"\n",
    "s3 = words.upper()\n",
    "print(\" Uppercase sentence:\", s3)\n",
    "\n",
    "#  Rearrange the words to form a new sentence: \"fun is python learning.\"\n",
    "s4 = ' '.join(words[::-1])\n",
    "print(\"Rearranged sentence:\",s4)\n",
    "\n"
   ]
  },
  {
   "cell_type": "markdown",
   "id": "ef3bea2c",
   "metadata": {},
   "source": [
    "# Question 8"
   ]
  },
  {
   "cell_type": "markdown",
   "id": "eff94e6b",
   "metadata": {},
   "source": [
    "# Python allocates memory dynamically and other languages are works statically."
   ]
  },
  {
   "cell_type": "code",
   "execution_count": null,
   "id": "4c9d7131",
   "metadata": {},
   "outputs": [],
   "source": []
  },
  {
   "cell_type": "markdown",
   "id": "9457ccb0",
   "metadata": {},
   "source": [
    "# Question 9"
   ]
  },
  {
   "cell_type": "markdown",
   "id": "d8d6f908",
   "metadata": {},
   "source": [
    "# The built-in function in python are those functions which comes with python, which we can use without importing the libraries."
   ]
  },
  {
   "cell_type": "markdown",
   "id": "e41a4331",
   "metadata": {},
   "source": [
    "# 1) abs() which returns the absolute value of a number\n",
    "# 2) float() which returns a floating point number\n",
    "# 3) help()  which executes the built-in help system\n",
    "# 4) len()    which returns the length of an object\n",
    "# 5) print() Prints to the standard output device"
   ]
  },
  {
   "cell_type": "markdown",
   "id": "5158e1a8",
   "metadata": {},
   "source": [
    "# Question 10"
   ]
  },
  {
   "cell_type": "code",
   "execution_count": 39,
   "id": "6a7747c0",
   "metadata": {},
   "outputs": [
    {
     "name": "stdout",
     "output_type": "stream",
     "text": [
      "Enter a string: who are you\n",
      "The number of vowels in the given string is: 5\n"
     ]
    }
   ],
   "source": [
    "# function for counting vowels in a string\n",
    "def count_vowels(string):\n",
    "    vowels = \"aeiouAEIOU\"\n",
    "    vowel_count = 0\n",
    "\n",
    "    for letter in string:\n",
    "        if letter in vowels:\n",
    "            vowel_count += 1\n",
    "\n",
    "    return vowel_count\n",
    "\n",
    "Str = input(\"Enter a string: \")\n",
    "n = count_vowels(Str)\n",
    "print(\"The number of vowels in the given string is:\",n)\n"
   ]
  },
  {
   "cell_type": "code",
   "execution_count": null,
   "id": "dd38c19c",
   "metadata": {},
   "outputs": [],
   "source": [
    "\n",
    "# Checking if a given string is palindrome or not\n",
    "str1 = input(\"Enter a string: \")\n",
    "rev_str = str1[::-1]\n",
    "\n",
    "if str1.lower() == rev_str.lower():\n",
    "    print(\"The string is a palindrome\")\n",
    "else:\n",
    "    print(\"The string is not a palindrome\")"
   ]
  }
 ],
 "metadata": {
  "kernelspec": {
   "display_name": "Python 3 (ipykernel)",
   "language": "python",
   "name": "python3"
  },
  "language_info": {
   "codemirror_mode": {
    "name": "ipython",
    "version": 3
   },
   "file_extension": ".py",
   "mimetype": "text/x-python",
   "name": "python",
   "nbconvert_exporter": "python",
   "pygments_lexer": "ipython3",
   "version": "3.11.3"
  }
 },
 "nbformat": 4,
 "nbformat_minor": 5
}
