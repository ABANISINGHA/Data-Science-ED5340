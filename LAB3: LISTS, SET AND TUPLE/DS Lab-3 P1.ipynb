{
 "cells": [
  {
   "cell_type": "markdown",
   "id": "99fe778a",
   "metadata": {},
   "source": [
    "1.Write a program (WAP) to implement the following operations on a collection of library books:\n",
    "\n",
    "(a) Construct a catalog of books, with each book having an author's name, book title, ISBN number, publication year, and number of pages.\n",
    "\n",
    "(b) Add a new book to the catalog, ensuring that the books are kept in ascending order based on the publication year.\n",
    "\n",
    "(c) Locate a book by its ISBN number and delete the book's entry from the catalog.\n",
    "\n",
    "(d) Insert a new book entry at the end of the catalog using the provided book information.\n",
    "\n",
    "(e) Identify and remove any duplicate entries in the catalog, preserving only one copy of each book based on its ISBN number.\n",
    "\n",
    "(f) Reorganize the entire catalog so that the books are sorted in descending order by the number of pages.\n",
    "\n"
   ]
  },
  {
   "cell_type": "code",
   "execution_count": 28,
   "id": "4da102e4",
   "metadata": {},
   "outputs": [],
   "source": [
    "#(a) Construct a catalog of books, with each book having an author's name, book title, ISBN number, publication year, and number of pages.\n",
    "book_lst = [['author1','book1',123,2016,100],['author2','book2',456,1996,200],['author3','book3',789,1998,300]]\n"
   ]
  },
  {
   "cell_type": "code",
   "execution_count": 29,
   "id": "76cb7d01",
   "metadata": {},
   "outputs": [
    {
     "name": "stdout",
     "output_type": "stream",
     "text": [
      "The sorted book list with respect to the year: [['author2', 'book2', 456, 1996, 200], ['author3', 'book3', 789, 1998, 300], ['Newauthor', 'Newbook', 458, 2000, 700], ['author1', 'book1', 123, 2016, 100]]\n"
     ]
    }
   ],
   "source": [
    "#(b) Add a new book to the catalog, ensuring that the books are kept in ascending order based on the publication year.\n",
    "\n",
    "new_book = ['Newauthor','Newbook',458,2000,700]\n",
    "book_lst.append(new_book)\n",
    "for i in book_lst:\n",
    "    a = i[3]\n",
    "    i[3] = i[0]\n",
    "    i[0] = a\n",
    "\n",
    "#print(book_lst)\n",
    "book_lst.sort()\n",
    "for i in book_lst:\n",
    "    a = i[3]\n",
    "    i[3] = i[0]\n",
    "    i[0] = a\n",
    "\n",
    "print(\"The sorted book list with respect to the year:\",book_lst)\n"
   ]
  },
  {
   "cell_type": "code",
   "execution_count": 30,
   "id": "a78257ce",
   "metadata": {},
   "outputs": [
    {
     "name": "stdout",
     "output_type": "stream",
     "text": [
      "The new book list after removing by ISBN: [['author2', 'book2', 456, 1996, 200], ['author3', 'book3', 789, 1998, 300], ['Newauthor', 'Newbook', 458, 2000, 700]]\n"
     ]
    }
   ],
   "source": [
    "#(c) Locate a book by its ISBN number and delete the book's entry from the catalog.\n",
    "\n",
    "def remove_book_by_isbn(book_lst, isbn):\n",
    "    for i, book in enumerate(book_lst):\n",
    "        if book[2] == isbn:\n",
    "            del book_lst[i]\n",
    "            break\n",
    "remove_book_by_isbn(book_lst, 123)\n",
    "print(\"The new book list after removing by ISBN:\",book_lst)\n"
   ]
  },
  {
   "cell_type": "code",
   "execution_count": 31,
   "id": "44d67eb2",
   "metadata": {},
   "outputs": [
    {
     "name": "stdout",
     "output_type": "stream",
     "text": [
      "The book list after entry the new book: [['author2', 'book2', 456, 1996, 200], ['author3', 'book3', 789, 1998, 300], ['Newauthor', 'Newbook', 458, 2000, 700], ['Chetan Bhagat', 'Half Girlfriend', 258, 2009, 236]]\n"
     ]
    }
   ],
   "source": [
    "#(d) Insert a new book entry at the end of the catalog using the provided book information.\n",
    "\n",
    "\n",
    "new = ['Chetan Bhagat','Half Girlfriend',258,2009,236]\n",
    "book_lst.append(new)\n",
    "print(\"The book list after entry the new book:\",book_lst)"
   ]
  },
  {
   "cell_type": "code",
   "execution_count": 32,
   "id": "783bf362",
   "metadata": {},
   "outputs": [
    {
     "name": "stdout",
     "output_type": "stream",
     "text": [
      "After adding a book in the book list with same isbn : [['author2', 'book2', 456, 1996, 200], ['author3', 'book3', 789, 1998, 300], ['Newauthor', 'Newbook', 458, 2000, 700], ['Chetan Bhagat', 'Half Girlfriend', 258, 2009, 236], ['Author4', 'Book4', 456, 2000, 300]]\n",
      "After removing the book with same isbn: [['author2', 'book2', 456, 1996, 200], ['author3', 'book3', 789, 1998, 300], ['Newauthor', 'Newbook', 458, 2000, 700], ['Chetan Bhagat', 'Half Girlfriend', 258, 2009, 236]]\n"
     ]
    }
   ],
   "source": [
    "#(e) Identify and remove any duplicate entries in the catalog, preserving only one copy of each book based on its ISBN number.\n",
    "\n",
    "add_book= [\"Author4\", \"Book4\", 456, 2000, 300]  # Adding duplicate\n",
    "book_lst.append(add_book)\n",
    "print(\"After adding a book in the book list with same isbn :\",book_lst)\n",
    "isbns = set()\n",
    "unique_books = []\n",
    "for book in book_lst:\n",
    "    if book[2] not in isbns:\n",
    "        unique_books.append(book)\n",
    "        isbns.add(book[2])\n",
    "print( \"After removing the book with same isbn:\",unique_books)"
   ]
  },
  {
   "cell_type": "code",
   "execution_count": 34,
   "id": "88079e35",
   "metadata": {},
   "outputs": [
    {
     "name": "stdout",
     "output_type": "stream",
     "text": [
      "The sorted book list with respect to the number of pages in descending order: [['Newauthor', 'Newbook', 458, 2000, 700], ['author3', 'book3', 789, 1998, 300], ['Author4', 'Book4', 456, 2000, 300], ['Chetan Bhagat', 'Half Girlfriend', 258, 2009, 236], ['author2', 'book2', 456, 1996, 200]]\n"
     ]
    }
   ],
   "source": [
    "#(f) Reorganize the entire catalog so that the books are sorted in descending order by the number of pages.\n",
    "\n",
    "for i in book_lst:\n",
    "    a = i[4]\n",
    "    i[4] = i[0]\n",
    "    i[0] = a\n",
    "\n",
    "\n",
    "book_lst.sort(reverse=True)\n",
    "for i in book_lst:\n",
    "    a = i[4]\n",
    "    i[4] = i[0]\n",
    "    i[0] = a\n",
    "\n",
    "print(\"The sorted book list with respect to the number of pages in descending order:\",book_lst)"
   ]
  },
  {
   "cell_type": "markdown",
   "id": "ef228e91",
   "metadata": {},
   "source": [
    "2. Write a program using list comprehension\n",
    "\n",
    "a) To add the corresponding elements of two lists and print the new list.\n",
    "\n",
    "b) To perform element wise multiplication of two lists and print the new list.\n",
    "\n",
    "c) To create a list of the unique characters of a given string. \n",
    "\n",
    "Eg: input = “hello” , output = [‘h’, ‘e’, ‘l’, ‘o’]\n",
    "\n"
   ]
  },
  {
   "cell_type": "code",
   "execution_count": null,
   "id": "791118f2",
   "metadata": {},
   "outputs": [],
   "source": []
  },
  {
   "cell_type": "code",
   "execution_count": 2,
   "id": "e7ed7392",
   "metadata": {},
   "outputs": [
    {
     "name": "stdout",
     "output_type": "stream",
     "text": [
      " After adding the corrosponding elements of the two two given lists, new list becomes: [48, 63, 27, 8, 18, 96]\n"
     ]
    }
   ],
   "source": [
    "# a) To add the corresponding elements of two lists and print the new list.\n",
    "\n",
    "lst1 = [3,5,2,5,6,21]\n",
    "lst2 = [45,58,25,3,12,75]\n",
    "lst3 =[]\n",
    "for i in range(len(lst1)):\n",
    "    lst3.append(lst1[i]+lst2[i])\n",
    "\n",
    "print(\" After adding the corrosponding elements of the two two given lists, new list becomes:\",lst3)\n",
    "    "
   ]
  },
  {
   "cell_type": "code",
   "execution_count": 3,
   "id": "170d015d",
   "metadata": {},
   "outputs": [
    {
     "name": "stdout",
     "output_type": "stream",
     "text": [
      " After multiplying the corrosponding elements of the two two given lists, new list becomes: [15, -15, 6, -15, 6, 15.0]\n"
     ]
    }
   ],
   "source": [
    "#b)  To perform element wise multiplication of two lists and print the new list.\n",
    "\n",
    "lst1 = [3,5,2,-5,6,5/3]\n",
    "lst2 = [5,-3,3,3,1,9]\n",
    "lst3 =[]\n",
    "for i in range(len(lst1)):\n",
    "    lst3.append(lst1[i]*lst2[i])\n",
    "\n",
    "print(\" After multiplying the corrosponding elements of the two two given lists, new list becomes:\",lst3)\n",
    "    "
   ]
  },
  {
   "cell_type": "code",
   "execution_count": 34,
   "id": "928c848b",
   "metadata": {},
   "outputs": [
    {
     "name": "stdout",
     "output_type": "stream",
     "text": [
      "['h', 'e', 'l', 'o']\n"
     ]
    }
   ],
   "source": [
    "# c) To create a list of the unique characters of a given string.\n",
    "\n",
    "str1 = \"hello\"\n",
    "set1 = set(str1)\n",
    "lst = list(set1)\n",
    "#print(lst)\n",
    "a = lst[0]\n",
    "lst[0] = lst[1]\n",
    "lst[1] = a\n",
    "b = lst[2]\n",
    "lst[2] = lst[1]\n",
    "lst[1] = b\n",
    "print(lst)\n",
    "\n",
    "\n"
   ]
  },
  {
   "cell_type": "markdown",
   "id": "ba3b1f4b",
   "metadata": {},
   "source": [
    "3. Using the zip function, WAP\n",
    "\n",
    "a) To add the elements of 2 matrices (Define matrices as per your wish).\n",
    "\n",
    "b) To perform element wise multiplication on 2 matrices.\n",
    "\n"
   ]
  },
  {
   "cell_type": "code",
   "execution_count": 24,
   "id": "749e70e4",
   "metadata": {},
   "outputs": [
    {
     "name": "stdout",
     "output_type": "stream",
     "text": [
      "The element wise addition of two matrices is: [[2, 3], [4, 5]]\n"
     ]
    }
   ],
   "source": [
    "mat1 = [[1,2],[3,4]]\n",
    "mat2 = [[1,1],[1,1]]\n",
    "lst =[[a+b for a,b in zip(i,j)] for i,j in zip(mat1,mat2)]\n",
    "\n",
    "print(\"The element wise addition of two matrices is:\",lst)\n",
    "    "
   ]
  },
  {
   "cell_type": "code",
   "execution_count": 25,
   "id": "86a61ac7",
   "metadata": {},
   "outputs": [
    {
     "name": "stdout",
     "output_type": "stream",
     "text": [
      "The element wise multiplication of two matrices is: [[1, 2], [3, 4]]\n"
     ]
    }
   ],
   "source": [
    "mat1 = [[1,2],[3,4]]\n",
    "mat2 = [[1,1],[1,1]]\n",
    "lst =[[a*b for a,b in zip(i,j)] for i,j in zip(mat1,mat2)]\n",
    "\n",
    "print(\"The element wise multiplication of two matrices is:\",lst)"
   ]
  },
  {
   "cell_type": "markdown",
   "id": "3a1b059c",
   "metadata": {},
   "source": [
    "4. List of List : Given a square matrix represented as a list of lists, \n",
    "\n",
    "a) WAP to print the row sum, column sum and trace of the matrix \n",
    "\n",
    "b) WAP to print the transpose of the matrix.\n",
    "\n",
    "c) WAP to check whether the given matrix is symmetric or not.\n",
    "\n",
    "d) WAP to check whether the Identity matrix (I) is positive definite or not by using Quadratic form method (x^T*I*x > 0), where x is any non zero vector.\n"
   ]
  },
  {
   "cell_type": "code",
   "execution_count": 43,
   "id": "2192ae8e",
   "metadata": {},
   "outputs": [
    {
     "name": "stdout",
     "output_type": "stream",
     "text": [
      "The row sum of the 1th row is: 6\n",
      "The row sum of the 2th row is: 18\n",
      "The row sum of the 3th row is: 30\n",
      "The column sum of the 1th column is: 12\n",
      "The column sum of the 2th column is: 18\n",
      "The column sum of the 3th column is: 24\n",
      "The trace of the matrix is: 20\n"
     ]
    }
   ],
   "source": [
    "mat = [[1,4,7],[2,6,10],[3,8,13]]\n",
    "\n",
    "for i in range(len(mat[0])):\n",
    "    s = 0\n",
    "    for j in range(len(mat[0])):\n",
    "        s = s+ mat[j][i]\n",
    "    print(\"The row sum of the {}th row is: {}\".format(i+1,s))\n",
    "\n",
    "for i in range(len(mat[0])):\n",
    "    s = 0\n",
    "    for j in range(len(mat[0])):\n",
    "        s = s+ mat[i][j]\n",
    "    print(\"The column sum of the {}th column is: {}\".format(i+1,s))\n",
    "tr = 0    \n",
    "for i in range(len(mat[0])):\n",
    "     tr = tr + mat[i][i]\n",
    "print(\"The trace of the matrix is:\",tr)\n",
    "    \n",
    "    "
   ]
  },
  {
   "cell_type": "code",
   "execution_count": 19,
   "id": "0774d421",
   "metadata": {},
   "outputs": [
    {
     "name": "stdout",
     "output_type": "stream",
     "text": [
      "[[1, 2, 3], [4, 6, 8], [7, 10, 13]]\n"
     ]
    }
   ],
   "source": [
    "\n",
    "def transpose_matrix(matrix):\n",
    "    return [[matrix[j][i] for j in range(len(matrix))] for i in range(len(matrix))]\n",
    "\n",
    "\n",
    "mat = [[1,4,7],[2,6,10],[3,8,13]]\n",
    "matT = transpose_matrix(mat)\n",
    "print(matT)\n",
    "\n"
   ]
  },
  {
   "cell_type": "code",
   "execution_count": 7,
   "id": "f5256472",
   "metadata": {},
   "outputs": [
    {
     "name": "stdout",
     "output_type": "stream",
     "text": [
      "The given matrix is symmetric: False\n"
     ]
    }
   ],
   "source": [
    "#c) WAP to check whether the given matrix is symmetric or not.\n",
    "\n",
    "mat1 = [[4,5],[2,3]]\n",
    "\n",
    "\n",
    "def symmetric_check(matrix):\n",
    "    return all(matrix[i][j] == matrix[j][i] for i in range(len(matrix)) for j in range(len(matrix)))\n",
    "\n",
    "\n",
    "print(\"The given matrix is symmetric:\",symmetric_check(mat1))\n",
    "            "
   ]
  },
  {
   "cell_type": "code",
   "execution_count": 21,
   "id": "3940657d",
   "metadata": {},
   "outputs": [
    {
     "name": "stdout",
     "output_type": "stream",
     "text": [
      "The matrix is positive definite\n"
     ]
    }
   ],
   "source": [
    "# d)\n",
    "id_mat = [[1, 0, 0],[0, 1, 0],[0, 0, 1]]\n",
    "\n",
    "vec = [1,2,3]\n",
    "s = 0\n",
    "for i in range(len(vec)):\n",
    "    s = s + id_mat[i][i]*vec[i]*vec[i]\n",
    "if s>0:\n",
    "    print(\"The matrix is positive definite\")\n",
    "else:\n",
    "    print(\"The matrix is not positive definite\")\n"
   ]
  },
  {
   "cell_type": "markdown",
   "id": "9671f08d",
   "metadata": {},
   "source": [
    "5.  List of Lists : WAP to remove sub lists from a given list of lists that contain an element outside a given range.\n",
    "\n",
    "Example :\n",
    "\n",
    "Input : [[3], [1, 3, 2], [0, 1, 9, 3, 5, 7], [9, 10], [13, 14, 16, 17]]  Range: 1, 5\n",
    "\n",
    "Output : [[3], [1, 3, 2]]\n",
    "\n",
    "Explanation : If a sublist has a number that is other than 1, 2, 3, 4, 5, remove the sublist from the list of lists and print the remaining sublists as a lists of lists\n",
    "\n"
   ]
  },
  {
   "cell_type": "code",
   "execution_count": 17,
   "id": "4ff7a56b",
   "metadata": {},
   "outputs": [
    {
     "name": "stdout",
     "output_type": "stream",
     "text": [
      "The required list becomes: [[3], [1, 3, 2]]\n"
     ]
    }
   ],
   "source": [
    "lst =  [[3], [1, 3, 2], [0, 1, 9, 3, 5, 7], [9, 10], [13, 14, 16, 17]] \n",
    "ls = []\n",
    "\n",
    "for i in lst:\n",
    "    for j in i:\n",
    "        if j not in range(1,6):\n",
    "           break\n",
    "    else:\n",
    "        ls.append(i)\n",
    "    \n",
    "    \n",
    "print(\"The required list becomes:\",ls)    "
   ]
  },
  {
   "cell_type": "code",
   "execution_count": null,
   "id": "eddd62d6",
   "metadata": {},
   "outputs": [],
   "source": []
  }
 ],
 "metadata": {
  "kernelspec": {
   "display_name": "Python 3 (ipykernel)",
   "language": "python",
   "name": "python3"
  },
  "language_info": {
   "codemirror_mode": {
    "name": "ipython",
    "version": 3
   },
   "file_extension": ".py",
   "mimetype": "text/x-python",
   "name": "python",
   "nbconvert_exporter": "python",
   "pygments_lexer": "ipython3",
   "version": "3.11.3"
  }
 },
 "nbformat": 4,
 "nbformat_minor": 5
}
