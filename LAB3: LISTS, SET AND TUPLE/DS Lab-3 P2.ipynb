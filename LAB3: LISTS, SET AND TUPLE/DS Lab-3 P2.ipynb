{
 "cells": [
  {
   "cell_type": "markdown",
   "id": "796e0358",
   "metadata": {},
   "source": [
    "# 6. List comprehension  : Given two lists of equal length, list1 contains the integers and list2 contains alphabets. Using list comprehension, WAP\n",
    "\n",
    "a) To generate a list containing the squares of elements from list1.\n",
    "\n",
    "b) To generate a list containing pairwise corresponding elements in the form of tuple.\n",
    "\n",
    "c) To generate a list containing all possible combinations of elements from the two lists.\n",
    "\n",
    "d) To generate a list containing elements of list1 and list2 alternatively.\n",
    "\n",
    "Example:\n",
    "\n",
    "Input:\n",
    "\n",
    "list1 = [1,2]   list2 = ['a','b']\n",
    "\n",
    "Output:\n",
    "\n",
    "a) [1, 4]\n",
    "\n",
    "b) [(1,'a'), (2,'b')]\n",
    "\n",
    "c) [(1,'a'),(1,'b'),(2,'a'), (2,'b')]\n",
    "\n",
    "d) [1,'a',2,'b']"
   ]
  },
  {
   "cell_type": "code",
   "execution_count": 1,
   "id": "1c3abce9",
   "metadata": {},
   "outputs": [
    {
     "name": "stdout",
     "output_type": "stream",
     "text": [
      "Printing the list containing the square of the elements of the given list: [1, 4]\n"
     ]
    }
   ],
   "source": [
    "#a) To generate a list containing the squares of elements from list1.\n",
    "\n",
    "lst1 = [1,2]\n",
    "lst = []\n",
    "for i in range(len(lst1)):\n",
    "    lst.append(lst1[i]**2)\n",
    "    \n",
    "print(\"Printing the list containing the square of the elements of the given list:\",lst)    \n"
   ]
  },
  {
   "cell_type": "code",
   "execution_count": 19,
   "id": "cdf4de53",
   "metadata": {},
   "outputs": [
    {
     "name": "stdout",
     "output_type": "stream",
     "text": [
      "[(1, 'a'), (2, 'b')]\n"
     ]
    }
   ],
   "source": [
    "#b) To generate a list containing pairwise corresponding elements in the form of tuple.\n",
    "\n",
    "list1 = [1,2]\n",
    "list2 = ['a','b']\n",
    "lst =[]\n",
    "for i in zip(list1,list2):\n",
    "    lst.append(i)\n",
    "\n",
    "print(lst)"
   ]
  },
  {
   "cell_type": "code",
   "execution_count": 13,
   "id": "5170d55b",
   "metadata": {},
   "outputs": [
    {
     "name": "stdout",
     "output_type": "stream",
     "text": [
      "Printing the list of all possible combination of the elements of two lists: [(1, 'a'), (1, 'b'), (1, 'c'), (2, 'a'), (2, 'b'), (2, 'c'), (3, 'a'), (3, 'b'), (3, 'c')]\n"
     ]
    }
   ],
   "source": [
    "# c) To generate a list containing all possible combinations of elements from the two lists.\n",
    "\n",
    "list1 = [1,2,3]\n",
    "list2 = ['a','b','c']\n",
    "lst2 =[]\n",
    "\n",
    "for i in range(len(list1)):\n",
    "    lst =[]\n",
    "    for j in range(len(list1)):             \n",
    "        lst.insert(j,list1[i])\n",
    "    for k in zip(lst,list2):\n",
    "        lst2.append(k)\n",
    "\n",
    "print(\"Printing the list of all possible combination of the elements of two lists:\",lst2)\n"
   ]
  },
  {
   "cell_type": "code",
   "execution_count": 21,
   "id": "0055f3d9",
   "metadata": {},
   "outputs": [
    {
     "name": "stdout",
     "output_type": "stream",
     "text": [
      "Printing the list containing the elements of list1 and list2 alternatively: [1, 'a', 2, 'b']\n"
     ]
    }
   ],
   "source": [
    "# d) To generate a list containing elements of list1 and list2 alternatively.\n",
    "\n",
    "list1 = [1,2]\n",
    "list2 = ['a','b']\n",
    "lst =[]\n",
    "for i in zip(list1,list2):\n",
    "    lst.append(list(i))\n",
    "    \n",
    "new_lst = []\n",
    "for i in lst:\n",
    "    for j in i:\n",
    "        new_lst.append(j)\n",
    "print(\"Printing the list containing the elements of list1 and list2 alternatively:\",new_lst)"
   ]
  },
  {
   "cell_type": "markdown",
   "id": "4ba55ff7",
   "metadata": {},
   "source": [
    "# 7. Find out the applicable methods for the list but not tuples. List them out.\n",
    "\n"
   ]
  },
  {
   "cell_type": "code",
   "execution_count": 26,
   "id": "7638b9d7",
   "metadata": {},
   "outputs": [
    {
     "name": "stdout",
     "output_type": "stream",
     "text": [
      "2\n",
      "[1, 3, 3, 4]\n"
     ]
    }
   ],
   "source": [
    "ls = [1,2,3,3,4]\n",
    "a = ls.pop(1)\n",
    "print(a)\n",
    "print(ls)"
   ]
  },
  {
   "cell_type": "code",
   "execution_count": null,
   "id": "2f29c077",
   "metadata": {},
   "outputs": [],
   "source": []
  },
  {
   "cell_type": "markdown",
   "id": "ac5da2a2",
   "metadata": {},
   "source": [
    "# 8. Write a code snippet in Python that takes a string as input and returns a tuple of tuples. Each inner tuple should contain a character from the input string and its corresponding ASCII value.\n",
    "\n",
    "Sample example: Input_string = \"Design\",  Output_tuple = (('D', 68), ('e', 101), ('s', 115), ('i', 105), ('g', 103),('n', 110) )\n",
    "\n"
   ]
  },
  {
   "cell_type": "code",
   "execution_count": 1,
   "id": "20d7577b",
   "metadata": {},
   "outputs": [
    {
     "name": "stdout",
     "output_type": "stream",
     "text": [
      "(('D', 68), ('e', 101), ('s', 115), ('i', 105), ('g', 103), ('n', 110))\n"
     ]
    }
   ],
   "source": [
    "str1 = \"Design\"\n",
    "lst = []\n",
    "lst1 = []\n",
    "for i in str1:\n",
    "    lst.append(ord(i))\n",
    "    lst1.append(i)\n",
    "ls = []\n",
    "for i in zip(lst1,lst):\n",
    "    ls.append(i)\n",
    "print(tuple(ls))"
   ]
  },
  {
   "cell_type": "code",
   "execution_count": null,
   "id": "0f28fc39",
   "metadata": {},
   "outputs": [],
   "source": []
  },
  {
   "cell_type": "markdown",
   "id": "8a054b54",
   "metadata": {},
   "source": [
    "# 9. Create a program that takes a list of tuples containing student name and roll number and returns a new list of tuples containing only those tuples whose first element is a vowel (a, e, i, o, u, A, E, I, O, U).\n",
    "\n",
    "Sample example: list_of_tuples = [(\"aditi\", 1), (\"tanya\", 2)], Output_list_of_tuples = [(\"aditi\", 1)]\n",
    "\n"
   ]
  },
  {
   "cell_type": "code",
   "execution_count": 22,
   "id": "72aec073",
   "metadata": {},
   "outputs": [
    {
     "name": "stdout",
     "output_type": "stream",
     "text": [
      "Printing the list of tuples that whose first element is vowel: [('aditya', 2), ('Ishak', 3), ('Usha', 4)]\n"
     ]
    }
   ],
   "source": [
    "student_lst = [('Rajib',1),('aditya',2),('Ishak',3),('Usha',4),('tanu',5)]\n",
    "vowels = \"aeiouAEIOU\"\n",
    "ls =[]\n",
    "for i in student_lst:\n",
    "    for j in i[0]:\n",
    "        if j in vowels:\n",
    "            ls.append(i)\n",
    "        break\n",
    "                \n",
    "print(\"Printing the list of tuples that whose first element is vowel:\",ls)\n",
    "\n"
   ]
  },
  {
   "cell_type": "code",
   "execution_count": null,
   "id": "bce4919b",
   "metadata": {},
   "outputs": [],
   "source": []
  },
  {
   "cell_type": "markdown",
   "id": "0eaf4ea4",
   "metadata": {},
   "source": [
    "# 10.  Create a set of all numbers between 1 and 20 that are either divisible by 3 or 5, using set comprehension.\n",
    "\n"
   ]
  },
  {
   "cell_type": "code",
   "execution_count": 6,
   "id": "faa8c59f",
   "metadata": {},
   "outputs": [
    {
     "name": "stdout",
     "output_type": "stream",
     "text": [
      "Set of all numbers between 1 and 20 that are divisible by either 3 or 5: {3, 5, 6, 9, 10, 12, 15, 18}\n"
     ]
    }
   ],
   "source": [
    "set1 = set() \n",
    "for i in range(1,20):\n",
    "    if (i % 3 == 0 or i % 5 == 0):\n",
    "        set1.add(i)\n",
    "        \n",
    "print(\"Set of all numbers between 1 and 20 that are divisible by either 3 or 5:\",set1)        "
   ]
  },
  {
   "cell_type": "code",
   "execution_count": null,
   "id": "3fe89c2b",
   "metadata": {},
   "outputs": [],
   "source": []
  },
  {
   "cell_type": "markdown",
   "id": "07ff60c3",
   "metadata": {},
   "source": [
    "# 11. What is a frozenset()? Give examples.\n",
    "\n"
   ]
  },
  {
   "cell_type": "code",
   "execution_count": 28,
   "id": "3aca6e77",
   "metadata": {},
   "outputs": [
    {
     "name": "stdout",
     "output_type": "stream",
     "text": [
      "The set: {1, 2, 3, 4, 5} <class 'set'>\n",
      "The frozenset: frozenset({1, 2, 3, 4, 5}) <class 'frozenset'>\n"
     ]
    }
   ],
   "source": [
    "set1 = {1,2,3,4,5}\n",
    "print(\"The set:\",set1,type(set1))\n",
    "froz_set = frozenset(set1)\n",
    "print(\"The frozenset:\",froz_set,type(froz_set))"
   ]
  },
  {
   "cell_type": "code",
   "execution_count": null,
   "id": "4c2cdd69",
   "metadata": {},
   "outputs": [],
   "source": []
  }
 ],
 "metadata": {
  "kernelspec": {
   "display_name": "Python 3 (ipykernel)",
   "language": "python",
   "name": "python3"
  },
  "language_info": {
   "codemirror_mode": {
    "name": "ipython",
    "version": 3
   },
   "file_extension": ".py",
   "mimetype": "text/x-python",
   "name": "python",
   "nbconvert_exporter": "python",
   "pygments_lexer": "ipython3",
   "version": "3.11.3"
  }
 },
 "nbformat": 4,
 "nbformat_minor": 5
}
