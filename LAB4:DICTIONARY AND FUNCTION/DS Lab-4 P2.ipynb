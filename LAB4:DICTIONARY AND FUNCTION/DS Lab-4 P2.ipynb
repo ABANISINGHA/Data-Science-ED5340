{
 "cells": [
  {
   "cell_type": "code",
   "execution_count": null,
   "id": "6f371577",
   "metadata": {},
   "outputs": [],
   "source": []
  },
  {
   "cell_type": "markdown",
   "id": "35598bf2",
   "metadata": {},
   "source": [
    "# 6. Store the employee IDs, names, salaries, and years of experience using nested dictionaries (the key of the highest level dictionary can be the employee ID). \n",
    "\n",
    "a) Sort this dictionary using the salary value. \n",
    "\n",
    "b) Add a new employee to the dictionary in the correct position (sorted as mentioned above).\n",
    "\n"
   ]
  },
  {
   "cell_type": "code",
   "execution_count": 16,
   "id": "39ac6876",
   "metadata": {},
   "outputs": [
    {
     "name": "stdout",
     "output_type": "stream",
     "text": [
      "Printing the sorted employee record by the salary:\n",
      "{'ICF1017': {'name': 'P Gopinath', 'salary': 45000, 'experience': 3}, 'ICF1012': {'name': 'Anurag Basu', 'salary': 50000, 'experience': 5}, 'ICF1003': {'name': 'Santu PK', 'salary': 55000, 'experience': 3}, 'ICF1001': {'name': 'Jane Smith', 'salary': 60000, 'experience': 8}}\n"
     ]
    }
   ],
   "source": [
    "\n",
    "employees_record = {'ICF1012': {\"name\":\"Anurag Basu\",\"salary\": 50000,\"experience\": 5}, \n",
    "    'ICF1001': {\"name\":\"Jane Smith\",\"salary\": 60000,\"experience\": 8},\n",
    "    'ICF1003': {\"name\":\"Santu PK\",\"salary\": 55000,\"experience\": 3},\n",
    "    'ICF1017': {\"name\":\"P Gopinath\",\"salary\": 45000,\"experience\": 3}}\n",
    "\n",
    "#function to sort the employee record by salary\n",
    "def sort_emp_rec(employees_record):\n",
    "    ls =[]\n",
    "    for details in employees_record.values():\n",
    "        ls.append(details['salary'])\n",
    "    \n",
    "    ls1 = sorted(ls)\n",
    "    sorted_emp_rec_by_salary = {}\n",
    "    for i in ls1:\n",
    "        for eid,details in employees_record.items():\n",
    "            if details['salary'] == i:\n",
    "                sorted_emp_rec_by_salary.update({eid:details})\n",
    "    return sorted_emp_rec_by_salary\n",
    "\n",
    "\n",
    "print(\"Printing the sorted employee record by the salary:\")           \n",
    "print(sort_emp_rec(employees_record))    "
   ]
  },
  {
   "cell_type": "code",
   "execution_count": 18,
   "id": "6cc2b727",
   "metadata": {},
   "outputs": [
    {
     "name": "stdout",
     "output_type": "stream",
     "text": [
      "Printing the sorted employee record after adding new employee by the salary:\n",
      "{'ICF1017': {'name': 'P Gopinath', 'salary': 45000, 'experience': 3}, 'ICF1012': {'name': 'Anurag Basu', 'salary': 50000, 'experience': 5}, 'ICF1010': {'name': 'Rajesh Jha', 'salary': 52000, 'experience': 1}, 'ICF1003': {'name': 'Santu PK', 'salary': 55000, 'experience': 3}, 'ICF1001': {'name': 'Jane Smith', 'salary': 60000, 'experience': 8}}\n"
     ]
    }
   ],
   "source": [
    "new_employee = {'ICF1010': {\"name\":\"Rajesh Jha\",\"salary\": 52000,\"experience\": 1}}\n",
    "employees_record.update(new_employee)\n",
    "print(\"Printing the sorted employee record after adding new employee by the salary:\")           \n",
    "print(sort_emp_rec(employees_record))    "
   ]
  },
  {
   "cell_type": "markdown",
   "id": "3f547f18",
   "metadata": {},
   "source": [
    "# 7. You are given two Python dictionaries, A and B, with keys as alphabets and values as random integers. Write a Python function to create a third dictionary C, that combines A and B. For common keys, the value in C should be the sum of values from A and B. \n",
    "\n",
    "For example, if dictionary A is {\"a\": 3, \"b\": 5, \"c\": 7} and dictionary B is {\"b\": 2, \"c\": 4, \"d\": 6}, the function should return a dictionary C that looks like {\"a\": 3, \"b\": 7, \"c\": 11, \"d\": 6}.\n",
    "\n"
   ]
  },
  {
   "cell_type": "code",
   "execution_count": 1,
   "id": "94ad10da",
   "metadata": {},
   "outputs": [
    {
     "name": "stdout",
     "output_type": "stream",
     "text": [
      "{'a': 3, 'b': 7, 'c': 11, 'd': 6}\n"
     ]
    }
   ],
   "source": [
    "A = {\"a\": 3, \"b\": 5, \"c\": 7} \n",
    "B = {\"b\": 2, \"c\": 4, \"d\": 6}\n",
    "\n",
    "def dict_make(A,B):\n",
    "    C = {}\n",
    "    s = set()\n",
    "    \n",
    "    for keyA,valA in A.items():\n",
    "        s.add(keyA)\n",
    "        for keyB,valB in B.items():\n",
    "            if keyB == keyA:\n",
    "                valA = valA + valB\n",
    "                C.update({keyA:valA})\n",
    "            else:\n",
    "                C.update({keyA:valA})\n",
    "            if keyB not in s:\n",
    "                C.update({keyB:valB})\n",
    "            \n",
    "    return C\n",
    "print(dict_make(A,B))"
   ]
  },
  {
   "cell_type": "markdown",
   "id": "3213f9f8",
   "metadata": {},
   "source": [
    "# 8. Assume you have a list of lists, where each inner list contains two elements: a key and a value. Write a Python function that takes the list of lists as input and returns a list of dictionaries, where each dictionary contains a key-value pair from the original input list.\n",
    "\n"
   ]
  },
  {
   "cell_type": "code",
   "execution_count": null,
   "id": "2b8397d4",
   "metadata": {},
   "outputs": [],
   "source": []
  },
  {
   "cell_type": "code",
   "execution_count": 41,
   "id": "d9d0535f",
   "metadata": {},
   "outputs": [
    {
     "name": "stdout",
     "output_type": "stream",
     "text": [
      "[{'d': 3}, {'b': 9}, {'e': 4}, {'a': 2}, {'c': 7}]\n"
     ]
    }
   ],
   "source": [
    "lst = [['d',3],['b',9],['e',4],['a',2],['c',7]]\n",
    "\n",
    "def list_to_dict(lst):\n",
    "    ls = []\n",
    "    for i in lst:\n",
    "        ls.append({i[0]:i[1]})\n",
    "    return ls\n",
    "ls1 = list_to_dict(lst)\n",
    "print(ls1)\n"
   ]
  },
  {
   "cell_type": "markdown",
   "id": "1c6432c2",
   "metadata": {},
   "source": [
    "# 9. Illustrate the usage of positional and keyword arguments using suitable examples.\n",
    "\n"
   ]
  },
  {
   "cell_type": "code",
   "execution_count": 4,
   "id": "4b4b64e6",
   "metadata": {},
   "outputs": [
    {
     "name": "stdout",
     "output_type": "stream",
     "text": [
      "Hari debited Rs.2000  at 11/02/2024 from his personal account.\n"
     ]
    }
   ],
   "source": [
    "# positional arguments\n",
    "\n",
    "def pos_fun(m,d,st):\n",
    "    \n",
    "    print(f\"{st} debited Rs.{m}  at {d} from his personal account.\")\n",
    "     \n",
    "pos_fun(2000,'11/02/2024','Hari')\n"
   ]
  },
  {
   "cell_type": "code",
   "execution_count": 6,
   "id": "d1a5e30d",
   "metadata": {},
   "outputs": [
    {
     "ename": "TypeError",
     "evalue": "can't multiply sequence by non-int of type 'float'",
     "output_type": "error",
     "traceback": [
      "\u001b[1;31m---------------------------------------------------------------------------\u001b[0m",
      "\u001b[1;31mTypeError\u001b[0m                                 Traceback (most recent call last)",
      "Cell \u001b[1;32mIn[6], line 8\u001b[0m\n\u001b[0;32m      5\u001b[0m     m \u001b[38;5;241m=\u001b[39m m \u001b[38;5;241m+\u001b[39m m\u001b[38;5;241m*\u001b[39m\u001b[38;5;241m0.18\u001b[39m\n\u001b[0;32m      6\u001b[0m     \u001b[38;5;28mprint\u001b[39m(\u001b[38;5;124mf\u001b[39m\u001b[38;5;124m\"\u001b[39m\u001b[38;5;132;01m{\u001b[39;00mst\u001b[38;5;132;01m}\u001b[39;00m\u001b[38;5;124m debited Rs.\u001b[39m\u001b[38;5;132;01m{\u001b[39;00mm\u001b[38;5;132;01m}\u001b[39;00m\u001b[38;5;124m  at \u001b[39m\u001b[38;5;132;01m{\u001b[39;00md\u001b[38;5;132;01m}\u001b[39;00m\u001b[38;5;124m from his personal account.\u001b[39m\u001b[38;5;124m\"\u001b[39m)\n\u001b[1;32m----> 8\u001b[0m pos_fun(\u001b[38;5;124m'\u001b[39m\u001b[38;5;124m11/02/2024\u001b[39m\u001b[38;5;124m'\u001b[39m,\u001b[38;5;241m2000\u001b[39m,\u001b[38;5;124m'\u001b[39m\u001b[38;5;124mHari\u001b[39m\u001b[38;5;124m'\u001b[39m)\n",
      "Cell \u001b[1;32mIn[6], line 5\u001b[0m, in \u001b[0;36mpos_fun\u001b[1;34m(m, d, st)\u001b[0m\n\u001b[0;32m      3\u001b[0m \u001b[38;5;28;01mdef\u001b[39;00m \u001b[38;5;21mpos_fun\u001b[39m(m,d,st):\n\u001b[0;32m      4\u001b[0m     st\u001b[38;5;241m.\u001b[39mupper()\n\u001b[1;32m----> 5\u001b[0m     m \u001b[38;5;241m=\u001b[39m m \u001b[38;5;241m+\u001b[39m m\u001b[38;5;241m*\u001b[39m\u001b[38;5;241m0.18\u001b[39m\n\u001b[0;32m      6\u001b[0m     \u001b[38;5;28mprint\u001b[39m(\u001b[38;5;124mf\u001b[39m\u001b[38;5;124m\"\u001b[39m\u001b[38;5;132;01m{\u001b[39;00mst\u001b[38;5;132;01m}\u001b[39;00m\u001b[38;5;124m debited Rs.\u001b[39m\u001b[38;5;132;01m{\u001b[39;00mm\u001b[38;5;132;01m}\u001b[39;00m\u001b[38;5;124m  at \u001b[39m\u001b[38;5;132;01m{\u001b[39;00md\u001b[38;5;132;01m}\u001b[39;00m\u001b[38;5;124m from his personal account.\u001b[39m\u001b[38;5;124m\"\u001b[39m)\n",
      "\u001b[1;31mTypeError\u001b[0m: can't multiply sequence by non-int of type 'float'"
     ]
    }
   ],
   "source": [
    "# positional arguments with different position\n",
    "\n",
    "def pos_fun(m,d,st):\n",
    "    st.upper()\n",
    "    m = m + m*0.18\n",
    "    print(f\"{st} debited Rs.{m}  at {d} from his personal account.\")\n",
    "     \n",
    "pos_fun('11/02/2024',2000,'Hari')\n"
   ]
  },
  {
   "cell_type": "code",
   "execution_count": 9,
   "id": "b7121f9f",
   "metadata": {},
   "outputs": [
    {
     "name": "stdout",
     "output_type": "stream",
     "text": [
      "Hari debited Rs.2360.0  at 11/02/2024 from his personal account.\n"
     ]
    }
   ],
   "source": [
    "#Keyword arguments\n",
    "\n",
    "def pos_fun(m,d,st):\n",
    "    st.upper()\n",
    "    m = m + m*0.18\n",
    "    print(f\"{st} debited Rs.{m}  at {d} from his personal account.\")\n",
    "     \n",
    "pos_fun(d='11/02/2024',m=2000,st='Hari')\n"
   ]
  },
  {
   "cell_type": "code",
   "execution_count": 15,
   "id": "c1e77e5a",
   "metadata": {},
   "outputs": [
    {
     "name": "stdout",
     "output_type": "stream",
     "text": [
      "Ram debited Rs.2360.0  at 11/02/2024 from his personal account.\n",
      "Ram debited Rs.2360.0  at 11/02/2024 from his personal account.\n",
      "Gungun debited Rs.590.0  at 11/02/2024 from his personal account.\n"
     ]
    }
   ],
   "source": [
    "# mixing of positional and keyward argument\n",
    "\n",
    "def pos_fun(m,d,st='Ram'):\n",
    "    st.upper()\n",
    "    m = m + m*0.18\n",
    "    print(f\"{st} debited Rs.{m}  at {d} from his personal account.\")\n",
    "     \n",
    "pos_fun(d='11/02/2024',m=2000)\n",
    "pos_fun(2000,d='11/02/2024')\n",
    "pos_fun(500,st = 'Gungun',d='11/02/2024')\n"
   ]
  },
  {
   "cell_type": "code",
   "execution_count": 16,
   "id": "b975f67c",
   "metadata": {},
   "outputs": [
    {
     "ename": "SyntaxError",
     "evalue": "positional argument follows keyword argument (523106321.py, line 1)",
     "output_type": "error",
     "traceback": [
      "\u001b[1;36m  Cell \u001b[1;32mIn[16], line 1\u001b[1;36m\u001b[0m\n\u001b[1;33m    pos_fun(st = 'Gungun',d='11/02/2024',100)\u001b[0m\n\u001b[1;37m                                            ^\u001b[0m\n\u001b[1;31mSyntaxError\u001b[0m\u001b[1;31m:\u001b[0m positional argument follows keyword argument\n"
     ]
    }
   ],
   "source": [
    "pos_fun(st = 'Gungun',d='11/02/2024',100)"
   ]
  },
  {
   "cell_type": "markdown",
   "id": "d50cd813",
   "metadata": {},
   "source": [
    "# 10. Write a function to find the maximum of n numbers using variable length positional arguments.\n",
    "\n"
   ]
  },
  {
   "cell_type": "code",
   "execution_count": 54,
   "id": "3b725b75",
   "metadata": {},
   "outputs": [
    {
     "name": "stdout",
     "output_type": "stream",
     "text": [
      "100\n",
      "1001\n"
     ]
    }
   ],
   "source": [
    "def max_of(*num):\n",
    "    a = num[0]\n",
    "    for i in range(len(num)):\n",
    "        if num[i]>a:\n",
    "            a = num[i]\n",
    "        else:\n",
    "            a = a\n",
    "    return a \n",
    "\n",
    "print(max_of(10,1,3,27,100,90))\n",
    "print(max_of(1001,111,467,270,10,190))"
   ]
  },
  {
   "cell_type": "markdown",
   "id": "68beba06",
   "metadata": {},
   "source": [
    "# 11. Write a function to concatenate n strings using variable length keyword arguments.\n",
    "\n"
   ]
  },
  {
   "cell_type": "code",
   "execution_count": null,
   "id": "153a6f3b",
   "metadata": {},
   "outputs": [],
   "source": []
  },
  {
   "cell_type": "code",
   "execution_count": 56,
   "id": "4485afde",
   "metadata": {},
   "outputs": [
    {
     "name": "stdout",
     "output_type": "stream",
     "text": [
      " How are you\n",
      " In which place you live in currently\n"
     ]
    }
   ],
   "source": [
    "def str_concate(*str):\n",
    "    st = \"\"\n",
    "    for i in str:\n",
    "        st = st + \" \" + i\n",
    "    return st\n",
    "print(str_concate('How','are','you'))    \n",
    "print(str_concate('In','which','place','you','live','in','currently'))        "
   ]
  },
  {
   "cell_type": "code",
   "execution_count": null,
   "id": "29354d46",
   "metadata": {},
   "outputs": [],
   "source": []
  },
  {
   "cell_type": "code",
   "execution_count": null,
   "id": "3fb351f8",
   "metadata": {},
   "outputs": [],
   "source": []
  },
  {
   "cell_type": "code",
   "execution_count": null,
   "id": "a3e80cdb",
   "metadata": {},
   "outputs": [],
   "source": []
  },
  {
   "cell_type": "code",
   "execution_count": null,
   "id": "36d4c2da",
   "metadata": {},
   "outputs": [],
   "source": []
  },
  {
   "cell_type": "code",
   "execution_count": null,
   "id": "4aee2a68",
   "metadata": {},
   "outputs": [],
   "source": []
  },
  {
   "cell_type": "code",
   "execution_count": null,
   "id": "5998ad0e",
   "metadata": {},
   "outputs": [],
   "source": []
  },
  {
   "cell_type": "code",
   "execution_count": null,
   "id": "3ccd3da8",
   "metadata": {},
   "outputs": [],
   "source": []
  },
  {
   "cell_type": "code",
   "execution_count": null,
   "id": "43d52f13",
   "metadata": {},
   "outputs": [],
   "source": []
  },
  {
   "cell_type": "code",
   "execution_count": null,
   "id": "541ad7d0",
   "metadata": {},
   "outputs": [],
   "source": []
  }
 ],
 "metadata": {
  "kernelspec": {
   "display_name": "Python 3 (ipykernel)",
   "language": "python",
   "name": "python3"
  },
  "language_info": {
   "codemirror_mode": {
    "name": "ipython",
    "version": 3
   },
   "file_extension": ".py",
   "mimetype": "text/x-python",
   "name": "python",
   "nbconvert_exporter": "python",
   "pygments_lexer": "ipython3",
   "version": "3.11.3"
  }
 },
 "nbformat": 4,
 "nbformat_minor": 5
}
