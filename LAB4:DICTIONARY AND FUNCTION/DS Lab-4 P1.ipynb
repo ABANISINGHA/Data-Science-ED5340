{
 "cells": [
  {
   "cell_type": "code",
   "execution_count": null,
   "id": "52fe7215",
   "metadata": {},
   "outputs": [],
   "source": []
  },
  {
   "cell_type": "markdown",
   "id": "f41ce439",
   "metadata": {},
   "source": [
    "# 1. Explore the use and syntax of common built-in functions: \n",
    "\n",
    "range(), \n",
    "\n",
    "iter(), \n",
    "\n",
    "eval(), \n",
    "\n",
    "enumerate(), \n",
    "\n",
    "zip(), \n",
    "\n",
    "lambda, \n",
    "\n",
    "input(), \n",
    "\n",
    "map(), \n",
    "\n",
    "filter(), \n",
    "\n",
    "next()\n",
    "\n",
    "reduce()\n",
    "\n",
    "Include a short description and a practical code example for each, ensuring clarity through comments.\n",
    "\n"
   ]
  },
  {
   "cell_type": "code",
   "execution_count": 67,
   "id": "7a2f9889",
   "metadata": {},
   "outputs": [
    {
     "name": "stdout",
     "output_type": "stream",
     "text": [
      "0\n",
      "1\n",
      "2\n",
      "3\n",
      "4\n",
      "5\n",
      "6\n",
      "7\n",
      "8\n",
      "9\n"
     ]
    }
   ],
   "source": [
    "# range(): The range() function returns a sequence of numbers, in a given range.\n",
    "# We use it to iterate sequences of numbers by using Python loops.\n",
    "\n",
    "# Generate numbers from 0 to 9\n",
    "for i in range(10):\n",
    "    print(i)\n"
   ]
  },
  {
   "cell_type": "code",
   "execution_count": null,
   "id": "cb7633eb",
   "metadata": {},
   "outputs": [],
   "source": []
  },
  {
   "cell_type": "code",
   "execution_count": 79,
   "id": "b518f2f0",
   "metadata": {},
   "outputs": [
    {
     "name": "stdout",
     "output_type": "stream",
     "text": [
      "<list_iterator object at 0x000002CB603F14B0>\n",
      "1\n",
      "2\n"
     ]
    }
   ],
   "source": [
    "# iter(): python iter() method returns the iterator object.\n",
    "\n",
    "lst = [1, 2, 3, 4, 5]\n",
    "iteration = iter(lst)\n",
    "print(iteration)\n",
    "print(next(iteration)) \n",
    "print(next(iteration)) \n"
   ]
  },
  {
   "cell_type": "code",
   "execution_count": 7,
   "id": "366944a5",
   "metadata": {},
   "outputs": [
    {
     "name": "stdout",
     "output_type": "stream",
     "text": [
      "-35\n",
      "10\n"
     ]
    }
   ],
   "source": [
    "# eval(): The function parse the expression argument and evaluate it as a Python expression and runs Python expression (code) within the program.\n",
    "\n",
    "x = 5\n",
    "y = 10\n",
    "print(eval('x + y - x*y')) \n",
    "print(max(5,10))"
   ]
  },
  {
   "cell_type": "code",
   "execution_count": null,
   "id": "1b718e29",
   "metadata": {},
   "outputs": [],
   "source": []
  },
  {
   "cell_type": "code",
   "execution_count": 71,
   "id": "8c874385",
   "metadata": {},
   "outputs": [
    {
     "name": "stdout",
     "output_type": "stream",
     "text": [
      "0 a\n",
      "1 b\n",
      "2 c\n"
     ]
    }
   ],
   "source": [
    "# enumerate(): Returns an iterator of tuples containing indices and values of elements in an iterable.\n",
    "my_list = ['a', 'b', 'c']\n",
    "for index, value in enumerate(my_list):\n",
    "    print(index, value)\n"
   ]
  },
  {
   "cell_type": "code",
   "execution_count": 72,
   "id": "0125df34",
   "metadata": {},
   "outputs": [
    {
     "name": "stdout",
     "output_type": "stream",
     "text": [
      "1 a\n",
      "2 b\n",
      "3 c\n"
     ]
    }
   ],
   "source": [
    "# zip(): Combines elements from multiple iterables into tuples. \n",
    "\n",
    "list1 = [1, 2, 3]\n",
    "list2 = ['a', 'b', 'c']\n",
    "for x, y in zip(list1, list2):\n",
    "    print(x, y)\n"
   ]
  },
  {
   "cell_type": "code",
   "execution_count": 4,
   "id": "43c66c4a",
   "metadata": {},
   "outputs": [
    {
     "name": "stdout",
     "output_type": "stream",
     "text": [
      "25\n"
     ]
    }
   ],
   "source": [
    "# lambda: lambda is a function which takes a value and gives the value of a mentioned function of the given value.\n",
    "square = lambda x: x ** 2\n",
    "print(square(5))  \n"
   ]
  },
  {
   "cell_type": "code",
   "execution_count": 73,
   "id": "fde3a8a7",
   "metadata": {},
   "outputs": [
    {
     "name": "stdout",
     "output_type": "stream",
     "text": [
      "Enter your name: Abani\n",
      "Hello, Abani\n"
     ]
    }
   ],
   "source": [
    "# input(): Reads input from the user as a string.\n",
    "name = input(\"Enter your name: \")\n",
    "print(\"Hello,\", name)\n"
   ]
  },
  {
   "cell_type": "code",
   "execution_count": 75,
   "id": "80c9004f",
   "metadata": {},
   "outputs": [
    {
     "name": "stdout",
     "output_type": "stream",
     "text": [
      "<map object at 0x000002CB603F8E50>\n",
      "[1, 4, 9, 16, 25]\n"
     ]
    }
   ],
   "source": [
    "# map(): Applies a function to all items in an iterable and returns a map object that can be converted to a list.\n",
    "\n",
    "numbers = [1, 2, 3, 4, 5]\n",
    "squared = map(lambda x: x ** 2, numbers)\n",
    "print(squared)\n",
    "print(list(squared)) "
   ]
  },
  {
   "cell_type": "code",
   "execution_count": 76,
   "id": "19418451",
   "metadata": {},
   "outputs": [
    {
     "name": "stdout",
     "output_type": "stream",
     "text": [
      "[2, 4]\n"
     ]
    }
   ],
   "source": [
    "# filter(): Filters elements from an iterable based on a function, returning only those elements for which the function returns True.\n",
    "\n",
    "numbers = [1, 2, 3, 4, 5]\n",
    "even = filter(lambda x: x % 2 == 0, numbers)\n",
    "print(list(even))  "
   ]
  },
  {
   "cell_type": "code",
   "execution_count": 81,
   "id": "c000d52a",
   "metadata": {},
   "outputs": [
    {
     "name": "stdout",
     "output_type": "stream",
     "text": [
      "1\n"
     ]
    }
   ],
   "source": [
    "# next(): Retrieves the next item from an iterator, advancing the iterator.\n",
    "\n",
    "itr = iter([1, 2, 3])\n",
    "print(next(itr))  "
   ]
  },
  {
   "cell_type": "code",
   "execution_count": 3,
   "id": "5a5d216e",
   "metadata": {},
   "outputs": [
    {
     "name": "stdout",
     "output_type": "stream",
     "text": [
      "15\n"
     ]
    }
   ],
   "source": [
    "# reduce() is a built-in function that applies a given function to the elements of an iterable, reducing them to a single value.\n",
    "\n",
    "# importing functools for reduce()\n",
    "from functools import reduce\n",
    "numbers = [1, 2, 3, 4, 5]\n",
    "result = reduce(lambda x, y: x + y, numbers)\n",
    "print(result)  "
   ]
  },
  {
   "cell_type": "markdown",
   "id": "c09991f2",
   "metadata": {},
   "source": [
    "# 2. Write a Python function that sorts a dictionary based on the length of values.\n",
    "Sample:\n",
    "\n",
    "Input: {'lemon':'yellow','apple':'red'} output: {'apple':'red','lemon':'yellow'}"
   ]
  },
  {
   "cell_type": "code",
   "execution_count": 6,
   "id": "c159915b",
   "metadata": {},
   "outputs": [
    {
     "name": "stdout",
     "output_type": "stream",
     "text": [
      "{'apple': 'red', 'mango': 'green', 'lemon': 'yellow'}\n"
     ]
    }
   ],
   "source": [
    "dct = {'lemon':'yellow','apple':'red','mango':'green'}\n",
    "ls = []\n",
    "for i in dct:\n",
    "    ls.append(len(dct[i])) # Making a list of length of the values corrodponding to the key\n",
    "ls1 = sorted(ls)  # sorted the list\n",
    "dct1 = {}\n",
    "for i in ls1:\n",
    "    for j in dct:\n",
    "        if len(dct[j]) == i:\n",
    "            dct1[j] = dct[j]     # Adding key value pair one by one the in a new dictonary\n",
    "            \n",
    "print(dct1)"
   ]
  },
  {
   "cell_type": "markdown",
   "id": "49572a9a",
   "metadata": {},
   "source": [
    "# 3. Develop a Python program that executes the following tasks with a user-provided string:\n",
    "\n",
    "a. Prompt the user to input a string.\n",
    "\n",
    "b. Create a dictionary from the string where each key is a unique alphabet character and the corresponding value is the frequency of that character's occurrence in the string.\n",
    "\n",
    "c. Generate a sorted list of tuples from the dictionary based on character frequency (values).\n",
    "\n",
    "d. Generate a sorted list of tuples from the dictionary based on the alphabet characters (keys).\n",
    "\n",
    "e. Identify the three most frequently occurring characters. In the event of a frequency tie, prioritize characters in lexicographical order.\n",
    "\n",
    "Your program should showcase proficiency in dictionary operations, sorting mechanisms, and handling of ties in frequency counts. Comment your code to outline the process and decisions made.\n",
    "\n",
    "sample:\n",
    "\n",
    "input = 'GOOGLE'\n",
    "\n",
    "Here, the most repeated characters are G:2, O:2. But, L,E are occurring only a single time which is tied for the third position here, so here we take E as it comes first in the lexicographical order.\n",
    "\n"
   ]
  },
  {
   "cell_type": "code",
   "execution_count": 5,
   "id": "79b45f04",
   "metadata": {},
   "outputs": [
    {
     "name": "stdout",
     "output_type": "stream",
     "text": [
      "Enter a string:eeegthjukll\n",
      "eeegthjukll\n"
     ]
    }
   ],
   "source": [
    "# a)\n",
    "st = input(\"Enter a string:\")\n",
    "print(st)"
   ]
  },
  {
   "cell_type": "code",
   "execution_count": 6,
   "id": "5ae845fc",
   "metadata": {},
   "outputs": [
    {
     "name": "stdout",
     "output_type": "stream",
     "text": [
      "{'k': 1, 'h': 1, 'g': 1, 'u': 1, 'j': 1, 'l': 2, 't': 1, 'e': 3}\n"
     ]
    }
   ],
   "source": [
    "# b)\n",
    "set1 = set()\n",
    "for i in st:\n",
    "    set1.add(i)\n",
    "\n",
    "#print(set1)\n",
    "dct = {}\n",
    "for i in set1:\n",
    "    count = 0\n",
    "    for j in st:\n",
    "        if j == i:\n",
    "            count = count + 1\n",
    "    dct[i] = count       \n",
    "print(dct)"
   ]
  },
  {
   "cell_type": "code",
   "execution_count": 7,
   "id": "2703b16a",
   "metadata": {},
   "outputs": [
    {
     "name": "stdout",
     "output_type": "stream",
     "text": [
      "[('k', 1), ('h', 1), ('g', 1), ('u', 1), ('j', 1), ('t', 1), ('l', 2), ('e', 3)]\n",
      "{'k': 1, 'h': 1, 'g': 1, 'u': 1, 'j': 1, 't': 1, 'l': 2, 'e': 3}\n"
     ]
    }
   ],
   "source": [
    "# c. Generate a sorted list of tuples from the dictionary based on character frequency (values).\n",
    "\n",
    "lstt = sorted(dct.items(), key=lambda x: x[1]) # sorting with respect to frequency\n",
    "print(list(lstt))\n",
    "dct1 = {}\n",
    "for char, freq in lstt:\n",
    "    dct1.update({char:freq})\n",
    "        \n",
    "print(dct1)"
   ]
  },
  {
   "cell_type": "code",
   "execution_count": null,
   "id": "e6cf1a49",
   "metadata": {},
   "outputs": [],
   "source": []
  },
  {
   "cell_type": "code",
   "execution_count": 34,
   "id": "c41dba6f",
   "metadata": {},
   "outputs": [
    {
     "name": "stdout",
     "output_type": "stream",
     "text": [
      "dict_items([('h', 1), ('s', 2), ('j', 1), ('d', 1), ('k', 1), ('b', 2)])\n",
      "A sorted list of tupules from the dictonary based on the alphabet characters: [('b', 2), ('d', 1), ('h', 1), ('j', 1), ('k', 1), ('s', 2)]\n"
     ]
    }
   ],
   "source": [
    "# d. Generate a sorted list of tuples from the dictionary based on the alphabet characters (keys).\n",
    "\n",
    "dct = {'h': 1, 's': 2, 'j': 1, 'd': 1, 'k': 1, 'b': 2}\n",
    "print(dct.items()) # it gives list of tupules\n",
    "dc = sorted(dct.items())\n",
    "print(\"A sorted list of tupules from the dictonary based on the alphabet characters:\",dc)"
   ]
  },
  {
   "cell_type": "code",
   "execution_count": 43,
   "id": "72bc7a02",
   "metadata": {},
   "outputs": [
    {
     "name": "stdout",
     "output_type": "stream",
     "text": [
      "{'h': 1, 'j': 1, 'd': 1}\n"
     ]
    }
   ],
   "source": [
    "# e. Identify the three most frequently occurring characters.\n",
    "# In the event of a frequency tie, prioritize characters in lexicographical order.\n",
    "\n",
    "most_frequent = lstt[:3]\n",
    "dct2 = {}\n",
    "for char, freq in most_frequent:\n",
    "    dct2.update({char:freq})\n",
    "        \n",
    "print(dct2)\n",
    "\n"
   ]
  },
  {
   "cell_type": "code",
   "execution_count": null,
   "id": "1ae073f9",
   "metadata": {},
   "outputs": [],
   "source": []
  },
  {
   "cell_type": "markdown",
   "id": "3fe7544b",
   "metadata": {},
   "source": [
    "# 4. Write a function called lookup_student that takes a dictionary representing student records, where names are keys and roll numbers are values. The function should search for a specified student name and return the corresponding roll number if found; otherwise, it should return \"Not Found\" \n",
    "\n",
    "Example:\n",
    "\n",
    "records = { \"Alice\" : \"AB111\", \"Bob\" : \"EE200\", \"David\" : \"XY333\"}\n",
    "\n",
    "print(lookup_student(records, \"Bob\")) : Should print \"EE200\"\n",
    "\n",
    "print(lookup_student(records, \"John\")) : Should print \"Not Found\"\n",
    "\n"
   ]
  },
  {
   "cell_type": "code",
   "execution_count": 50,
   "id": "51776700",
   "metadata": {},
   "outputs": [
    {
     "name": "stdout",
     "output_type": "stream",
     "text": [
      "Roll number: ma23m007\n",
      "Roll number: Not Found\n"
     ]
    }
   ],
   "source": [
    "def lookup_student(dct,st):\n",
    "    s = set()\n",
    "    for i in dct.keys():\n",
    "        s.add(i)\n",
    "    if st in s:\n",
    "        return dct[st]\n",
    "    else:\n",
    "        return 'Not Found'\n",
    "         \n",
    "    \n",
    "student_record = {'Abani':'ma23m001','Abhinav':'ma23m002','Ajay':'ma23m003','Hari':'ma23m007'}\n",
    "print(\"Roll number:\",lookup_student(student_record, \"Hari\"))\n",
    "print(\"Roll number:\",lookup_student(student_record, \"Bob\"))"
   ]
  },
  {
   "cell_type": "code",
   "execution_count": null,
   "id": "ec245e82",
   "metadata": {},
   "outputs": [],
   "source": []
  },
  {
   "cell_type": "markdown",
   "id": "a0e6fa0b",
   "metadata": {},
   "source": [
    "# 5. Given a list of integers, write a Python program to:\n",
    "\n",
    "a) Find the frequency of each integer in the list and store the result in a dictionary.\n",
    "\n",
    "b) Print the maximum integer and its frequency.\n",
    "\n",
    "c) Remove duplicates from the list and print the new list without changing the order of elements. Do this operation without using the set data type.\n",
    "\n",
    "d) Remove duplicates from the list and print the new list. Do this operation using the set data type.\n",
    "\n"
   ]
  },
  {
   "cell_type": "code",
   "execution_count": 53,
   "id": "75a7f98c",
   "metadata": {},
   "outputs": [
    {
     "name": "stdout",
     "output_type": "stream",
     "text": [
      "Dictonary of the integers as key and frequency as values: {1: 3, 2: 1, 3: 2, 5: 2, 8: 1}\n"
     ]
    }
   ],
   "source": [
    "int_lst = [2,8,1,3,5,1,3,5,1]\n",
    "s = set(int_lst)\n",
    "dct = {}\n",
    "for i in s:\n",
    "    count = 0\n",
    "    for j in int_lst:\n",
    "        if j == i:\n",
    "            count = count+ 1\n",
    "    dct.update({i:count})\n",
    "print(\"Dictonary of the integers as key and frequency as values:\",dct)"
   ]
  },
  {
   "cell_type": "code",
   "execution_count": 55,
   "id": "cafb09eb",
   "metadata": {},
   "outputs": [
    {
     "name": "stdout",
     "output_type": "stream",
     "text": [
      "The maximum integer of the list is: 8\n",
      "The frequency of the maximum integer of the list is: 1\n"
     ]
    }
   ],
   "source": [
    "print(\"The maximum integer of the list is:\",max(s))\n",
    "print(\"The frequency of the maximum integer of the list is:\",dct[max(s)])\n"
   ]
  },
  {
   "cell_type": "code",
   "execution_count": 65,
   "id": "4148a233",
   "metadata": {},
   "outputs": [
    {
     "name": "stdout",
     "output_type": "stream",
     "text": [
      "Printing the list by removing the duplicate elements from the list without changing the order: [2, 8, 1, 3, 5]\n"
     ]
    }
   ],
   "source": [
    "# c) Remove duplicates from the list and print the new list without changing the order of elements.\n",
    "# Do this operation without using the set data type.\n",
    "\n",
    "lst = []\n",
    "for i in int_lst:\n",
    "    if i not in lst:\n",
    "        lst.append(i)\n",
    "           \n",
    "print(\"Printing the list by removing the duplicate elements from the list without changing the order:\",lst)"
   ]
  },
  {
   "cell_type": "code",
   "execution_count": 66,
   "id": "832f28d3",
   "metadata": {},
   "outputs": [
    {
     "name": "stdout",
     "output_type": "stream",
     "text": [
      "Printing the list by removing the duplicate elements from the list using set data type: [1, 2, 3, 5, 8]\n"
     ]
    }
   ],
   "source": [
    "# d) Remove duplicates from the list and print the new list. Do this operation using the set data type.\n",
    "new_lst = set(int_lst)\n",
    "print(\"Printing the list by removing the duplicate elements from the list using set data type:\",list(new_lst))"
   ]
  },
  {
   "cell_type": "code",
   "execution_count": null,
   "id": "3df1c640",
   "metadata": {},
   "outputs": [],
   "source": []
  }
 ],
 "metadata": {
  "kernelspec": {
   "display_name": "Python 3 (ipykernel)",
   "language": "python",
   "name": "python3"
  },
  "language_info": {
   "codemirror_mode": {
    "name": "ipython",
    "version": 3
   },
   "file_extension": ".py",
   "mimetype": "text/x-python",
   "name": "python",
   "nbconvert_exporter": "python",
   "pygments_lexer": "ipython3",
   "version": "3.11.3"
  }
 },
 "nbformat": 4,
 "nbformat_minor": 5
}
